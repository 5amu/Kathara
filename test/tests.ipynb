{
 "cells": [
  {
   "cell_type": "code",
   "execution_count": 48,
   "metadata": {
    "collapsed": false,
    "deletable": true,
    "editable": true
   },
   "outputs": [],
   "source": [
    "from mako.template import Template\n",
    "\n",
    "import argparse\n",
    "import configparser\n",
    "from itertools import chain\n",
    "import re\n",
    "\n",
    "from sys import platform as _platform\n",
    "import os"
   ]
  },
  {
   "cell_type": "code",
   "execution_count": 77,
   "metadata": {
    "collapsed": true,
    "deletable": true,
    "editable": true
   },
   "outputs": [],
   "source": [
    "DEBUG = True\n",
    "IMAGE_NAME = 'quagga'\n",
    "LINUX_TERMINAL_TYPE = 'xterm'"
   ]
  },
  {
   "cell_type": "markdown",
   "metadata": {
    "deletable": true,
    "editable": true
   },
   "source": [
    "# Parsing of lab.conf"
   ]
  },
  {
   "cell_type": "code",
   "execution_count": 3,
   "metadata": {
    "collapsed": true,
    "deletable": true,
    "editable": true
   },
   "outputs": [],
   "source": [
    "config = configparser.ConfigParser()"
   ]
  },
  {
   "cell_type": "code",
   "execution_count": 4,
   "metadata": {
    "collapsed": false,
    "deletable": true,
    "editable": true
   },
   "outputs": [],
   "source": [
    "# reads lab.conf\n",
    "with open('shared/MARACAS_lab/lab.conf') as stream:\n",
    "    # adds a section to mimic a .ini file\n",
    "    stream = chain((\"[dummysection]\",), stream)\n",
    "    config.read_file(stream)"
   ]
  },
  {
   "cell_type": "code",
   "execution_count": 5,
   "metadata": {
    "collapsed": false,
    "deletable": true,
    "editable": true
   },
   "outputs": [
    {
     "name": "stdout",
     "output_type": "stream",
     "text": [
      "('lab_description', u'\"absaaaaaaaaaaaaaaaaa\"')\n",
      "('lab_version', u'\"1.0\"')\n",
      "('lab_author', u'\"aaaaaaaaaaaaaaaa\"')\n",
      "('lab_email', u'\"aaaaaaaaa@aaaaaaaaaaaaaa\"')\n",
      "('host[0]', u'A')\n",
      "('server[0]', u'B')\n",
      "('ospf1[0]', u'C')\n",
      "('ospf1[1]', u'E')\n",
      "('ospf1[2]', u'F')\n",
      "('ospf2[0]', u'D')\n",
      "('ospf2[1]', u'E')\n",
      "('ospf3[0]', u'A')\n",
      "('ospf3[1]', u'D')\n",
      "('ospf3[2]', u'C')\n",
      "('br[0]', u'G')\n",
      "('br[1]', u'F')\n",
      "('rip1[0]', u'H')\n",
      "('rip1[1]', u'G')\n",
      "('rip2[0]', u'B')\n",
      "('rip2[1]', u'H')\n"
     ]
    }
   ],
   "source": [
    "# gets 2 list of keys, one for machines and the other for the metadata\n",
    "# we also need a unique list of links\n",
    "keys = []\n",
    "m_keys = []\n",
    "links = []\n",
    "for key in config['dummysection']: \n",
    "    if DEBUG: print(key, config['dummysection'][key])\n",
    "    if '[' in key and ']' in key:\n",
    "        keys.append(key)\n",
    "        links.append(config['dummysection'][key])\n",
    "    else:\n",
    "        m_keys.append(key)"
   ]
  },
  {
   "cell_type": "code",
   "execution_count": 6,
   "metadata": {
    "collapsed": false,
    "deletable": true,
    "editable": true
   },
   "outputs": [
    {
     "data": {
      "text/plain": [
       "u'A'"
      ]
     },
     "execution_count": 6,
     "metadata": {},
     "output_type": "execute_result"
    }
   ],
   "source": [
    "config['dummysection'][keys[0]]"
   ]
  },
  {
   "cell_type": "code",
   "execution_count": 7,
   "metadata": {
    "collapsed": true,
    "deletable": true,
    "editable": true
   },
   "outputs": [],
   "source": [
    "# we only need unique links\n",
    "links = set(links)"
   ]
  },
  {
   "cell_type": "code",
   "execution_count": 8,
   "metadata": {
    "collapsed": false,
    "deletable": true,
    "editable": true
   },
   "outputs": [
    {
     "data": {
      "text/plain": [
       "{u'A', u'B', u'C', u'D', u'E', u'F', u'G', u'H'}"
      ]
     },
     "execution_count": 8,
     "metadata": {},
     "output_type": "execute_result"
    }
   ],
   "source": [
    "links"
   ]
  },
  {
   "cell_type": "code",
   "execution_count": 9,
   "metadata": {
    "collapsed": false,
    "deletable": true,
    "editable": true
   },
   "outputs": [],
   "source": [
    "# helper functions for natural sorting\n",
    "def atoi(text):\n",
    "    return int(text) if text.isdigit() else text\n",
    "def natural_keys(text):\n",
    "    return [ atoi(c) for c in re.split('(\\d+)', text) ]\n",
    "\n",
    "# sort the keys so that we keep the order of the interfaces\n",
    "keys.sort(key=natural_keys)"
   ]
  },
  {
   "cell_type": "code",
   "execution_count": 10,
   "metadata": {
    "collapsed": false,
    "deletable": true,
    "editable": true
   },
   "outputs": [
    {
     "data": {
      "text/plain": [
       "['br[0]',\n",
       " 'br[1]',\n",
       " 'host[0]',\n",
       " 'ospf1[0]',\n",
       " 'ospf1[1]',\n",
       " 'ospf1[2]',\n",
       " 'ospf2[0]',\n",
       " 'ospf2[1]',\n",
       " 'ospf3[0]',\n",
       " 'ospf3[1]',\n",
       " 'ospf3[2]',\n",
       " 'rip1[0]',\n",
       " 'rip1[1]',\n",
       " 'rip2[0]',\n",
       " 'rip2[1]',\n",
       " 'server[0]']"
      ]
     },
     "execution_count": 10,
     "metadata": {},
     "output_type": "execute_result"
    }
   ],
   "source": [
    "keys"
   ]
  },
  {
   "cell_type": "code",
   "execution_count": 11,
   "metadata": {
    "collapsed": false,
    "deletable": true,
    "editable": true
   },
   "outputs": [
    {
     "data": {
      "text/plain": [
       "['lab_description', 'lab_version', 'lab_author', 'lab_email']"
      ]
     },
     "execution_count": 11,
     "metadata": {},
     "output_type": "execute_result"
    }
   ],
   "source": [
    "m_keys"
   ]
  },
  {
   "cell_type": "code",
   "execution_count": 12,
   "metadata": {
    "collapsed": false,
    "deletable": true,
    "editable": true
   },
   "outputs": [],
   "source": [
    "# we then get a dictionary of machines ignoring interfaces that have missing positions (eg: 1,3,6 instead of 0,1,2)\n",
    "machines = {}\n",
    "for key in keys: \n",
    "    splitted = key.split('[')\n",
    "    name = splitted[0]\n",
    "    splitted = splitted[1].split(']')\n",
    "    ifnumber = int(splitted[0])\n",
    "    if not machines.get(name):\n",
    "        machines[name] = []\n",
    "    if len(machines[name]) == 0 or machines[name][len(machines[name])-1][1] == ifnumber - 1:\n",
    "        machines[name].append((config['dummysection'][key], ifnumber))"
   ]
  },
  {
   "cell_type": "code",
   "execution_count": 13,
   "metadata": {
    "collapsed": false,
    "deletable": true,
    "editable": true
   },
   "outputs": [
    {
     "data": {
      "text/plain": [
       "{'br': [(u'G', 0), (u'F', 1)],\n",
       " 'host': [(u'A', 0)],\n",
       " 'ospf1': [(u'C', 0), (u'E', 1), (u'F', 2)],\n",
       " 'ospf2': [(u'D', 0), (u'E', 1)],\n",
       " 'ospf3': [(u'A', 0), (u'D', 1), (u'C', 2)],\n",
       " 'rip1': [(u'H', 0), (u'G', 1)],\n",
       " 'rip2': [(u'B', 0), (u'H', 1)],\n",
       " 'server': [(u'B', 0)]}"
      ]
     },
     "execution_count": 13,
     "metadata": {},
     "output_type": "execute_result"
    }
   ],
   "source": [
    "machines"
   ]
  },
  {
   "cell_type": "code",
   "execution_count": 14,
   "metadata": {
    "collapsed": true,
    "deletable": true,
    "editable": true
   },
   "outputs": [],
   "source": [
    "metadata = {}\n",
    "for m_key in m_keys:\n",
    "    if config['dummysection'][m_key].startswith('\"') and config['dummysection'][m_key].endswith('\"'):\n",
    "        config['dummysection'][m_key] = config['dummysection'][m_key][1:-1]\n",
    "    metadata[m_key] = config['dummysection'][m_key]"
   ]
  },
  {
   "cell_type": "code",
   "execution_count": 15,
   "metadata": {
    "collapsed": false,
    "deletable": true,
    "editable": true
   },
   "outputs": [
    {
     "data": {
      "text/plain": [
       "{'lab_author': u'aaaaaaaaaaaaaaaa',\n",
       " 'lab_description': u'absaaaaaaaaaaaaaaaaa',\n",
       " 'lab_email': u'aaaaaaaaa@aaaaaaaaaaaaaa',\n",
       " 'lab_version': u'1.0'}"
      ]
     },
     "execution_count": 15,
     "metadata": {},
     "output_type": "execute_result"
    }
   ],
   "source": [
    "metadata"
   ]
  },
  {
   "cell_type": "markdown",
   "metadata": {
    "collapsed": false,
    "deletable": true,
    "editable": true
   },
   "source": [
    "# Generation of docker-compose.yml (may not be used in the end)"
   ]
  },
  {
   "cell_type": "code",
   "execution_count": 16,
   "metadata": {
    "collapsed": true,
    "deletable": true,
    "editable": true
   },
   "outputs": [],
   "source": [
    "network_block_template = '''networks: \n",
    "${links}\n",
    "'''\n",
    "network_link_template = '''    ${link}:\n",
    "'''\n",
    "service_block_template = '''version: '2.1'\n",
    "\n",
    "services:\n",
    "${services}\n",
    "'''\n",
    "service_template = '''    ${machine_name}:\n",
    "        image: ${image_name}\n",
    "        privileged: true\n",
    "        container_name: netkit-${machine_name}\n",
    "        ports:\n",
    "            - 808${number}:80\n",
    "        networks:\n",
    "${links}\n",
    "'''\n",
    "service_link_template = '''            ${link}:\n",
    "'''\n",
    "# TODO lab.dep with '''depends_on: service: condition: service_healty'''"
   ]
  },
  {
   "cell_type": "code",
   "execution_count": 17,
   "metadata": {
    "collapsed": false,
    "deletable": true,
    "editable": true
   },
   "outputs": [
    {
     "name": "stdout",
     "output_type": "stream",
     "text": [
      "hello world! \n",
      "               \n"
     ]
    }
   ],
   "source": [
    "print(Template('''hello ${data}! \n",
    "               ''').render(data=\"world\"))"
   ]
  },
  {
   "cell_type": "code",
   "execution_count": 18,
   "metadata": {
    "collapsed": false,
    "deletable": true,
    "editable": true
   },
   "outputs": [],
   "source": [
    "conf_network = \"\"\n",
    "for link in links:\n",
    "    conf_network = conf_network + Template(network_link_template).render(link=link)\n",
    "\n",
    "conf_network = Template(network_block_template).render(links=conf_network)"
   ]
  },
  {
   "cell_type": "code",
   "execution_count": 19,
   "metadata": {
    "collapsed": false,
    "deletable": true,
    "editable": true
   },
   "outputs": [
    {
     "name": "stdout",
     "output_type": "stream",
     "text": [
      "networks: \n",
      "    A:\n",
      "    C:\n",
      "    B:\n",
      "    E:\n",
      "    D:\n",
      "    G:\n",
      "    F:\n",
      "    H:\n",
      "\n",
      "\n"
     ]
    }
   ],
   "source": [
    "print(conf_network)"
   ]
  },
  {
   "cell_type": "code",
   "execution_count": 20,
   "metadata": {
    "collapsed": false,
    "deletable": true,
    "editable": true
   },
   "outputs": [],
   "source": [
    "conf_services = \"\"\n",
    "counter = 0\n",
    "for machine_name, interfaces in machines.items():\n",
    "    conf_links = \"\"\n",
    "    for link, _ in interfaces:\n",
    "        conf_links = conf_links + Template(service_link_template).render(link=link)\n",
    "    conf_services = conf_services + Template(service_template).render(machine_name=machine_name, image_name=IMAGE_NAME, number=counter, links=conf_links)\n",
    "    counter += 1\n",
    "    \n",
    "conf_services = Template(service_block_template).render(services=conf_services)"
   ]
  },
  {
   "cell_type": "code",
   "execution_count": 21,
   "metadata": {
    "collapsed": false,
    "deletable": true,
    "editable": true
   },
   "outputs": [
    {
     "name": "stdout",
     "output_type": "stream",
     "text": [
      "version: '2.1'\n",
      "\n",
      "services:\n",
      "    host:\n",
      "        image: quagga\n",
      "        privileged: true\n",
      "        container_name: netkit-host\n",
      "        ports:\n",
      "            - 8080:80\n",
      "        networks:\n",
      "            A:\n",
      "\n",
      "    server:\n",
      "        image: quagga\n",
      "        privileged: true\n",
      "        container_name: netkit-server\n",
      "        ports:\n",
      "            - 8081:80\n",
      "        networks:\n",
      "            B:\n",
      "\n",
      "    rip2:\n",
      "        image: quagga\n",
      "        privileged: true\n",
      "        container_name: netkit-rip2\n",
      "        ports:\n",
      "            - 8082:80\n",
      "        networks:\n",
      "            B:\n",
      "            H:\n",
      "\n",
      "    rip1:\n",
      "        image: quagga\n",
      "        privileged: true\n",
      "        container_name: netkit-rip1\n",
      "        ports:\n",
      "            - 8083:80\n",
      "        networks:\n",
      "            H:\n",
      "            G:\n",
      "\n",
      "    br:\n",
      "        image: quagga\n",
      "        privileged: true\n",
      "        container_name: netkit-br\n",
      "        ports:\n",
      "            - 8084:80\n",
      "        networks:\n",
      "            G:\n",
      "            F:\n",
      "\n",
      "    ospf1:\n",
      "        image: quagga\n",
      "        privileged: true\n",
      "        container_name: netkit-ospf1\n",
      "        ports:\n",
      "            - 8085:80\n",
      "        networks:\n",
      "            C:\n",
      "            E:\n",
      "            F:\n",
      "\n",
      "    ospf3:\n",
      "        image: quagga\n",
      "        privileged: true\n",
      "        container_name: netkit-ospf3\n",
      "        ports:\n",
      "            - 8086:80\n",
      "        networks:\n",
      "            A:\n",
      "            D:\n",
      "            C:\n",
      "\n",
      "    ospf2:\n",
      "        image: quagga\n",
      "        privileged: true\n",
      "        container_name: netkit-ospf2\n",
      "        ports:\n",
      "            - 8087:80\n",
      "        networks:\n",
      "            D:\n",
      "            E:\n",
      "\n",
      "\n",
      "\n"
     ]
    }
   ],
   "source": [
    "print(conf_services)"
   ]
  },
  {
   "cell_type": "markdown",
   "metadata": {
    "collapsed": true,
    "deletable": true,
    "editable": true
   },
   "source": [
    "# Generation of docker run and docker network commands (lstart)"
   ]
  },
  {
   "cell_type": "code",
   "execution_count": 66,
   "metadata": {
    "collapsed": false,
    "deletable": true,
    "editable": true
   },
   "outputs": [],
   "source": [
    "create_network_template = 'docker network create '\n",
    "create_network_commands = []\n",
    "for link in links:\n",
    "    create_network_commands.append(create_network_template + link)"
   ]
  },
  {
   "cell_type": "code",
   "execution_count": 68,
   "metadata": {
    "collapsed": false
   },
   "outputs": [],
   "source": [
    "create_machine_template = 'docker run --name {machine_name} -p 808{number}:80 --network={first_link} {image_name}'\n",
    "# we could use -ti -a stdin -a stdout and then /bin/bash -c \"commands;bash\", \n",
    "# but that woult execute commands like ifconfig BEFORE all the networks are linked\n",
    "create_machine_commands = []\n",
    "\n",
    "create_connection_template = 'docker network connect {link} {machine_name}'\n",
    "create_connection_commands = []\n",
    "\n",
    "copy_folder_template = 'docker cp {machine_name}/etc {machine_name}:/etc'\n",
    "copy_folder_commands = []\n",
    "\n",
    "count = 0\n",
    "def replace_multiple_items(repls, string):\n",
    "    return reduce(lambda a, kv: a.replace(*kv), repls, string)\n",
    "\n",
    "for machine_name, interfaces in machines.items():\n",
    "    repls = ('{machine_name}', machine_name), ('{number}', str(count)), ('{first_link}', interfaces[0][0]), ('{image_name}', IMAGE_NAME)\n",
    "    create_machine_commands.append(replace_multiple_items(repls, create_machine_template))\n",
    "    count += 1\n",
    "    for link,_ in interfaces[1:]:\n",
    "        repls = ('{link}', link), ('{machine_name}', machine_name)\n",
    "        create_connection_commands.append(replace_multiple_items(repls, create_connection_template))\n",
    "    repls = ('{machine_name}', machine_name), ('{machine_name}', machine_name)\n",
    "    copy_folder_commands.append(replace_multiple_items(repls, copy_folder_template))"
   ]
  },
  {
   "cell_type": "code",
   "execution_count": 70,
   "metadata": {
    "collapsed": false
   },
   "outputs": [
    {
     "name": "stdout",
     "output_type": "stream",
     "text": [
      "[u'docker network create A', u'docker network create C', u'docker network create B', u'docker network create E', u'docker network create D', u'docker network create G', u'docker network create F', u'docker network create H']\n",
      "[u'docker run --name host -p 8080:80 --network=A quagga', u'docker run --name server -p 8081:80 --network=B quagga', u'docker run --name rip2 -p 8082:80 --network=B quagga', u'docker run --name rip1 -p 8083:80 --network=H quagga', u'docker run --name br -p 8084:80 --network=G quagga', u'docker run --name ospf1 -p 8085:80 --network=C quagga', u'docker run --name ospf3 -p 8086:80 --network=A quagga', u'docker run --name ospf2 -p 8087:80 --network=D quagga']\n",
      "[u'docker network connect H rip2', u'docker network connect G rip1', u'docker network connect F br', u'docker network connect E ospf1', u'docker network connect F ospf1', u'docker network connect D ospf3', u'docker network connect C ospf3', u'docker network connect E ospf2']\n",
      "['docker cp host/etc host:/etc', 'docker cp server/etc server:/etc', 'docker cp rip2/etc rip2:/etc', 'docker cp rip1/etc rip1:/etc', 'docker cp br/etc br:/etc', 'docker cp ospf1/etc ospf1:/etc', 'docker cp ospf3/etc ospf3:/etc', 'docker cp ospf2/etc ospf2:/etc']\n"
     ]
    }
   ],
   "source": [
    "print create_network_commands\n",
    "print create_machine_commands\n",
    "print create_connection_commands\n",
    "print copy_folder_commands"
   ]
  },
  {
   "cell_type": "code",
   "execution_count": 71,
   "metadata": {
    "collapsed": true
   },
   "outputs": [],
   "source": [
    "commands = create_network_commands + create_machine_commands + create_connection_commands + copy_folder_commands"
   ]
  },
  {
   "cell_type": "code",
   "execution_count": 72,
   "metadata": {
    "collapsed": false
   },
   "outputs": [
    {
     "name": "stdout",
     "output_type": "stream",
     "text": [
      "[u'docker network create A', u'docker network create C', u'docker network create B', u'docker network create E', u'docker network create D', u'docker network create G', u'docker network create F', u'docker network create H', u'docker run --name host -p 8080:80 --network=A quagga', u'docker run --name server -p 8081:80 --network=B quagga', u'docker run --name rip2 -p 8082:80 --network=B quagga', u'docker run --name rip1 -p 8083:80 --network=H quagga', u'docker run --name br -p 8084:80 --network=G quagga', u'docker run --name ospf1 -p 8085:80 --network=C quagga', u'docker run --name ospf3 -p 8086:80 --network=A quagga', u'docker run --name ospf2 -p 8087:80 --network=D quagga', u'docker network connect H rip2', u'docker network connect G rip1', u'docker network connect F br', u'docker network connect E ospf1', u'docker network connect F ospf1', u'docker network connect D ospf3', u'docker network connect C ospf3', u'docker network connect E ospf2', 'docker cp host/etc host:/etc', 'docker cp server/etc server:/etc', 'docker cp rip2/etc rip2:/etc', 'docker cp rip1/etc rip1:/etc', 'docker cp br/etc br:/etc', 'docker cp ospf1/etc ospf1:/etc', 'docker cp ospf3/etc ospf3:/etc', 'docker cp ospf2/etc ospf2:/etc']\n"
     ]
    }
   ],
   "source": [
    "print commands"
   ]
  },
  {
   "cell_type": "markdown",
   "metadata": {},
   "source": [
    "# Run command ang get output"
   ]
  },
  {
   "cell_type": "code",
   "execution_count": 45,
   "metadata": {
    "collapsed": false
   },
   "outputs": [],
   "source": [
    "import subprocess\n",
    "def run_command_detatched(cmd_line):\n",
    "    p = subprocess.Popen(cmd_line, shell=True, stdout=subprocess.PIPE, stderr=subprocess.STDOUT)\n",
    "    out = p.communicate()[0]\n",
    "    return out"
   ]
  },
  {
   "cell_type": "code",
   "execution_count": 46,
   "metadata": {
    "collapsed": false
   },
   "outputs": [
    {
     "name": "stdout",
     "output_type": "stream",
     "text": [
      "\r\n",
      "Esecuzione di Ping www.google.com [2a00:1450:4002:800::2004] con 32 byte di dati:\r\n",
      "Risposta da 2a00:1450:4002:800::2004: durata=88ms \r\n",
      "Risposta da 2a00:1450:4002:800::2004: durata=81ms \r\n",
      "Risposta da 2a00:1450:4002:800::2004: durata=80ms \r\n",
      "Richiesta scaduta.\r\n",
      "\r\n",
      "Statistiche Ping per 2a00:1450:4002:800::2004:\r\n",
      "    Pacchetti: Trasmessi = 4, Ricevuti = 3, \r\n",
      "    Persi = 1 (25% persi),\r\n",
      "Tempo approssimativo percorsi andata/ritorno in millisecondi:\r\n",
      "    Minimo = 80ms, Massimo =  88ms, Medio =  83ms\r\n",
      "\n"
     ]
    }
   ],
   "source": [
    "print run_command_detatched('ping www.google.com')"
   ]
  },
  {
   "cell_type": "markdown",
   "metadata": {},
   "source": [
    "# Full command generation"
   ]
  },
  {
   "cell_type": "code",
   "execution_count": 42,
   "metadata": {
    "collapsed": false
   },
   "outputs": [
    {
     "name": "stdout",
     "output_type": "stream",
     "text": [
      "Windows\n"
     ]
    }
   ],
   "source": [
    "if _platform == \"linux\" or _platform == \"linux2\":\n",
    "    print 'linux'\n",
    "elif _platform == \"darwin\":\n",
    "    print 'MAC OS X'\n",
    "elif _platform == \"win32\":\n",
    "    print 'Windows'"
   ]
  },
  {
   "cell_type": "code",
   "execution_count": 58,
   "metadata": {
    "collapsed": false
   },
   "outputs": [
    {
     "data": {
      "text/plain": [
       "0"
      ]
     },
     "execution_count": 58,
     "metadata": {},
     "output_type": "execute_result"
    }
   ],
   "source": [
    "os.system('start /wait cmd /c \"ping www.google.com & cmd.exe\"')"
   ]
  },
  {
   "cell_type": "code",
   "execution_count": 59,
   "metadata": {
    "collapsed": false
   },
   "outputs": [
    {
     "data": {
      "text/plain": [
       "1"
      ]
     },
     "execution_count": 59,
     "metadata": {},
     "output_type": "execute_result"
    }
   ],
   "source": [
    "os.system(LINUX_TERMINAL_TYPE + ' -e \\'bash -c \"ping www.google.com; exec bash\"\\'')"
   ]
  },
  {
   "cell_type": "code",
   "execution_count": 60,
   "metadata": {
    "collapsed": false
   },
   "outputs": [
    {
     "data": {
      "text/plain": [
       "1"
      ]
     },
     "execution_count": 60,
     "metadata": {},
     "output_type": "execute_result"
    }
   ],
   "source": [
    "os.system('Terminal.app -c \"ping www.google.com; exec Terminal.app\"') # not tested yet"
   ]
  },
  {
   "cell_type": "code",
   "execution_count": 78,
   "metadata": {
    "collapsed": false
   },
   "outputs": [],
   "source": [
    "open_bash_template_linux = LINUX_TERMINAL_TYPE + ' -e \\'bash -c \"{commands} exec bash\"\\''\n",
    "open_bash_template_windows = 'start /wait cmd /c \"{commands} cmd.exe\"'\n",
    "open_bash_template_osx = 'Terminal.app -c \"{commands} exec Terminal.app\"'  # not tested yet\n",
    "\n",
    "separator_unix = ' ; '\n",
    "separator_windows = ' & '\n",
    "\n",
    "open_bash_template = ''\n",
    "open_bash_separator = ''\n",
    "\n",
    "if _platform == \"win32\":\n",
    "    open_bash_template = open_bash_template_windows\n",
    "    open_bash_separator = separator_windows\n",
    "elif _platform == \"darwin\":\n",
    "    open_bash_template = open_bash_template_osx\n",
    "    open_bash_separator = separator_unix\n",
    "else: #linux or linux2\n",
    "    open_bash_template = open_bash_template_linux\n",
    "    open_bash_separator = separator_unix"
   ]
  },
  {
   "cell_type": "code",
   "execution_count": 79,
   "metadata": {
    "collapsed": false
   },
   "outputs": [
    {
     "name": "stdout",
     "output_type": "stream",
     "text": [
      "start /wait cmd /c \"docker network create A & docker network create C & docker network create B & docker network create E & docker network create D & docker network create G & docker network create F & docker network create H & docker run --name host -p 8080:80 --network=A quagga & docker run --name server -p 8081:80 --network=B quagga & docker run --name rip2 -p 8082:80 --network=B quagga & docker run --name rip1 -p 8083:80 --network=H quagga & docker run --name br -p 8084:80 --network=G quagga & docker run --name ospf1 -p 8085:80 --network=C quagga & docker run --name ospf3 -p 8086:80 --network=A quagga & docker run --name ospf2 -p 8087:80 --network=D quagga & docker network connect H rip2 & docker network connect G rip1 & docker network connect F br & docker network connect E ospf1 & docker network connect F ospf1 & docker network connect D ospf3 & docker network connect C ospf3 & docker network connect E ospf2 & docker cp host/etc host:/etc & docker cp server/etc server:/etc & docker cp rip2/etc rip2:/etc & docker cp rip1/etc rip1:/etc & docker cp br/etc br:/etc & docker cp ospf1/etc ospf1:/etc & docker cp ospf3/etc ospf3:/etc & docker cp ospf2/etc ospf2:/etc &  cmd.exe\"\n"
     ]
    }
   ],
   "source": [
    "command_string = ''\n",
    "for command in commands:\n",
    "    command_string += command + open_bash_separator\n",
    "if DEBUG: print open_bash_template.replace('{commands}', command_string)"
   ]
  },
  {
   "cell_type": "code",
   "execution_count": 80,
   "metadata": {
    "collapsed": false
   },
   "outputs": [
    {
     "data": {
      "text/plain": [
       "0"
      ]
     },
     "execution_count": 80,
     "metadata": {},
     "output_type": "execute_result"
    }
   ],
   "source": [
    "os.system(open_bash_template.replace('{commands}', command_string))"
   ]
  },
  {
   "cell_type": "code",
   "execution_count": null,
   "metadata": {
    "collapsed": true
   },
   "outputs": [],
   "source": []
  }
 ],
 "metadata": {
  "kernelspec": {
   "display_name": "Python 2",
   "language": "python",
   "name": "python2"
  },
  "language_info": {
   "codemirror_mode": {
    "name": "ipython",
    "version": 2
   },
   "file_extension": ".py",
   "mimetype": "text/x-python",
   "name": "python",
   "nbconvert_exporter": "python",
   "pygments_lexer": "ipython2",
   "version": "2.7.13"
  }
 },
 "nbformat": 4,
 "nbformat_minor": 2
}
