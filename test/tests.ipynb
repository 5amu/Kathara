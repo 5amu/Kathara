{
 "cells": [
  {
   "cell_type": "code",
   "execution_count": 1,
   "metadata": {
    "collapsed": false,
    "deletable": true,
    "editable": true
   },
   "outputs": [],
   "source": [
    "from mako.template import Template\n",
    "\n",
    "import argparse\n",
    "import configparser\n",
    "from itertools import chain\n",
    "import re\n",
    "\n",
    "from sys import platform as _platform\n",
    "import os"
   ]
  },
  {
   "cell_type": "code",
   "execution_count": 2,
   "metadata": {
    "collapsed": true,
    "deletable": true,
    "editable": true
   },
   "outputs": [],
   "source": [
    "DEBUG = True\n",
    "IMAGE_NAME = 'netkit'\n",
    "LINUX_TERMINAL_TYPE = 'xterm'\n",
    "PATH_TO_LAB = 'shared/MARACAS_lab/'"
   ]
  },
  {
   "cell_type": "code",
   "execution_count": 3,
   "metadata": {
    "collapsed": false,
    "deletable": true,
    "editable": true
   },
   "outputs": [
    {
     "name": "stdout",
     "output_type": "stream",
     "text": [
      "Windows\n"
     ]
    }
   ],
   "source": [
    "if _platform == \"darwin\":\n",
    "    platform = 'MAC OS X'\n",
    "elif _platform == \"win32\":\n",
    "    platform = 'Windows'\n",
    "else: #if _platform == \"linux\" or _platform == \"linux2\":\n",
    "    platform = 'linux'\n",
    "    \n",
    "print platform"
   ]
  },
  {
   "cell_type": "markdown",
   "metadata": {
    "deletable": true,
    "editable": true
   },
   "source": [
    "# Parsing of lab.conf"
   ]
  },
  {
   "cell_type": "code",
   "execution_count": 4,
   "metadata": {
    "collapsed": true,
    "deletable": true,
    "editable": true
   },
   "outputs": [],
   "source": [
    "config = configparser.ConfigParser()"
   ]
  },
  {
   "cell_type": "code",
   "execution_count": 5,
   "metadata": {
    "collapsed": false,
    "deletable": true,
    "editable": true
   },
   "outputs": [],
   "source": [
    "# reads lab.conf\n",
    "with open(PATH_TO_LAB + 'lab.conf') as stream:\n",
    "    # adds a section to mimic a .ini file\n",
    "    stream = chain((\"[dummysection]\",), stream)\n",
    "    config.read_file(stream)"
   ]
  },
  {
   "cell_type": "code",
   "execution_count": 6,
   "metadata": {
    "collapsed": false,
    "deletable": true,
    "editable": true
   },
   "outputs": [
    {
     "name": "stdout",
     "output_type": "stream",
     "text": [
      "('lab_description', u'\"absaaaaaaaaaaaaaaaaa\"')\n",
      "('lab_version', u'\"1.0\"')\n",
      "('lab_author', u'\"aaaaaaaaaaaaaaaa\"')\n",
      "('lab_email', u'\"aaaaaaaaa@aaaaaaaaaaaaaa\"')\n",
      "('host[0]', u'A')\n",
      "('server[0]', u'B')\n",
      "('ospf1[0]', u'C')\n",
      "('ospf1[1]', u'E')\n",
      "('ospf1[2]', u'F')\n",
      "('ospf2[0]', u'D')\n",
      "('ospf2[1]', u'E')\n",
      "('ospf3[0]', u'A')\n",
      "('ospf3[1]', u'D')\n",
      "('ospf3[2]', u'C')\n",
      "('br[0]', u'G')\n",
      "('br[1]', u'F')\n",
      "('rip1[0]', u'H')\n",
      "('rip1[1]', u'G')\n",
      "('rip2[0]', u'B')\n",
      "('rip2[1]', u'H')\n"
     ]
    }
   ],
   "source": [
    "# gets 2 list of keys, one for machines and the other for the metadata\n",
    "# we also need a unique list of links\n",
    "keys = []\n",
    "m_keys = []\n",
    "links = []\n",
    "for key in config['dummysection']: \n",
    "    if DEBUG: print(key, config['dummysection'][key])\n",
    "    if '[' in key and ']' in key:\n",
    "        keys.append(key)\n",
    "        links.append(config['dummysection'][key])\n",
    "    else:\n",
    "        m_keys.append(key)"
   ]
  },
  {
   "cell_type": "code",
   "execution_count": 7,
   "metadata": {
    "collapsed": false,
    "deletable": true,
    "editable": true
   },
   "outputs": [
    {
     "data": {
      "text/plain": [
       "u'A'"
      ]
     },
     "execution_count": 7,
     "metadata": {},
     "output_type": "execute_result"
    }
   ],
   "source": [
    "config['dummysection'][keys[0]]"
   ]
  },
  {
   "cell_type": "code",
   "execution_count": 8,
   "metadata": {
    "collapsed": true,
    "deletable": true,
    "editable": true
   },
   "outputs": [],
   "source": [
    "# we only need unique links\n",
    "links = set(links)"
   ]
  },
  {
   "cell_type": "code",
   "execution_count": 9,
   "metadata": {
    "collapsed": false,
    "deletable": true,
    "editable": true
   },
   "outputs": [
    {
     "data": {
      "text/plain": [
       "{u'A', u'B', u'C', u'D', u'E', u'F', u'G', u'H'}"
      ]
     },
     "execution_count": 9,
     "metadata": {},
     "output_type": "execute_result"
    }
   ],
   "source": [
    "links"
   ]
  },
  {
   "cell_type": "code",
   "execution_count": 10,
   "metadata": {
    "collapsed": false,
    "deletable": true,
    "editable": true
   },
   "outputs": [],
   "source": [
    "# helper functions for natural sorting\n",
    "def atoi(text):\n",
    "    return int(text) if text.isdigit() else text\n",
    "def natural_keys(text):\n",
    "    return [ atoi(c) for c in re.split('(\\d+)', text) ]\n",
    "\n",
    "# sort the keys so that we keep the order of the interfaces\n",
    "keys.sort(key=natural_keys)"
   ]
  },
  {
   "cell_type": "code",
   "execution_count": 11,
   "metadata": {
    "collapsed": false,
    "deletable": true,
    "editable": true
   },
   "outputs": [
    {
     "data": {
      "text/plain": [
       "['br[0]',\n",
       " 'br[1]',\n",
       " 'host[0]',\n",
       " 'ospf1[0]',\n",
       " 'ospf1[1]',\n",
       " 'ospf1[2]',\n",
       " 'ospf2[0]',\n",
       " 'ospf2[1]',\n",
       " 'ospf3[0]',\n",
       " 'ospf3[1]',\n",
       " 'ospf3[2]',\n",
       " 'rip1[0]',\n",
       " 'rip1[1]',\n",
       " 'rip2[0]',\n",
       " 'rip2[1]',\n",
       " 'server[0]']"
      ]
     },
     "execution_count": 11,
     "metadata": {},
     "output_type": "execute_result"
    }
   ],
   "source": [
    "keys"
   ]
  },
  {
   "cell_type": "code",
   "execution_count": 12,
   "metadata": {
    "collapsed": false,
    "deletable": true,
    "editable": true
   },
   "outputs": [
    {
     "data": {
      "text/plain": [
       "['lab_description', 'lab_version', 'lab_author', 'lab_email']"
      ]
     },
     "execution_count": 12,
     "metadata": {},
     "output_type": "execute_result"
    }
   ],
   "source": [
    "m_keys"
   ]
  },
  {
   "cell_type": "code",
   "execution_count": 13,
   "metadata": {
    "collapsed": false,
    "deletable": true,
    "editable": true
   },
   "outputs": [],
   "source": [
    "# we then get a dictionary of machines ignoring interfaces that have missing positions (eg: 1,3,6 instead of 0,1,2)\n",
    "machines = {}\n",
    "for key in keys: \n",
    "    splitted = key.split('[')\n",
    "    name = splitted[0]\n",
    "    splitted = splitted[1].split(']')\n",
    "    ifnumber = int(splitted[0])\n",
    "    if not machines.get(name):\n",
    "        machines[name] = []\n",
    "    if len(machines[name]) == 0 or machines[name][len(machines[name])-1][1] == ifnumber - 1:\n",
    "        machines[name].append((config['dummysection'][key], ifnumber))"
   ]
  },
  {
   "cell_type": "code",
   "execution_count": 14,
   "metadata": {
    "collapsed": false,
    "deletable": true,
    "editable": true
   },
   "outputs": [
    {
     "data": {
      "text/plain": [
       "{'br': [(u'G', 0), (u'F', 1)],\n",
       " 'host': [(u'A', 0)],\n",
       " 'ospf1': [(u'C', 0), (u'E', 1), (u'F', 2)],\n",
       " 'ospf2': [(u'D', 0), (u'E', 1)],\n",
       " 'ospf3': [(u'A', 0), (u'D', 1), (u'C', 2)],\n",
       " 'rip1': [(u'H', 0), (u'G', 1)],\n",
       " 'rip2': [(u'B', 0), (u'H', 1)],\n",
       " 'server': [(u'B', 0)]}"
      ]
     },
     "execution_count": 14,
     "metadata": {},
     "output_type": "execute_result"
    }
   ],
   "source": [
    "machines"
   ]
  },
  {
   "cell_type": "code",
   "execution_count": 15,
   "metadata": {
    "collapsed": true,
    "deletable": true,
    "editable": true
   },
   "outputs": [],
   "source": [
    "metadata = {}\n",
    "for m_key in m_keys:\n",
    "    if config['dummysection'][m_key].startswith('\"') and config['dummysection'][m_key].endswith('\"'):\n",
    "        config['dummysection'][m_key] = config['dummysection'][m_key][1:-1]\n",
    "    metadata[m_key] = config['dummysection'][m_key]"
   ]
  },
  {
   "cell_type": "code",
   "execution_count": 16,
   "metadata": {
    "collapsed": false,
    "deletable": true,
    "editable": true
   },
   "outputs": [
    {
     "data": {
      "text/plain": [
       "{'lab_author': u'aaaaaaaaaaaaaaaa',\n",
       " 'lab_description': u'absaaaaaaaaaaaaaaaaa',\n",
       " 'lab_email': u'aaaaaaaaa@aaaaaaaaaaaaaa',\n",
       " 'lab_version': u'1.0'}"
      ]
     },
     "execution_count": 16,
     "metadata": {},
     "output_type": "execute_result"
    }
   ],
   "source": [
    "metadata"
   ]
  },
  {
   "cell_type": "markdown",
   "metadata": {
    "collapsed": false,
    "deletable": true,
    "editable": true
   },
   "source": [
    "# Generation of docker-compose.yml (may not be used in the end)"
   ]
  },
  {
   "cell_type": "code",
   "execution_count": 17,
   "metadata": {
    "collapsed": true,
    "deletable": true,
    "editable": true
   },
   "outputs": [],
   "source": [
    "network_block_template = '''networks: \n",
    "${links}\n",
    "'''\n",
    "network_link_template = '''    ${link}:\n",
    "'''\n",
    "service_block_template = '''version: '2.1'\n",
    "\n",
    "services:\n",
    "${services}\n",
    "'''\n",
    "service_template = '''    ${machine_name}:\n",
    "        image: ${image_name}\n",
    "        privileged: true\n",
    "        container_name: netkit-${machine_name}\n",
    "        ports:\n",
    "            - 808${number}:80\n",
    "        networks:\n",
    "${links}\n",
    "'''\n",
    "service_link_template = '''            ${link}:\n",
    "'''\n",
    "# TODO lab.dep with '''depends_on: service: condition: service_healty'''"
   ]
  },
  {
   "cell_type": "code",
   "execution_count": 18,
   "metadata": {
    "collapsed": false,
    "deletable": true,
    "editable": true
   },
   "outputs": [
    {
     "name": "stdout",
     "output_type": "stream",
     "text": [
      "hello world! \n",
      "               \n"
     ]
    }
   ],
   "source": [
    "print(Template('''hello ${data}! \n",
    "               ''').render(data=\"world\"))"
   ]
  },
  {
   "cell_type": "code",
   "execution_count": 19,
   "metadata": {
    "collapsed": false,
    "deletable": true,
    "editable": true
   },
   "outputs": [],
   "source": [
    "conf_network = \"\"\n",
    "for link in links:\n",
    "    conf_network = conf_network + Template(network_link_template).render(link=link)\n",
    "\n",
    "conf_network = Template(network_block_template).render(links=conf_network)"
   ]
  },
  {
   "cell_type": "code",
   "execution_count": 20,
   "metadata": {
    "collapsed": false,
    "deletable": true,
    "editable": true
   },
   "outputs": [
    {
     "name": "stdout",
     "output_type": "stream",
     "text": [
      "networks: \n",
      "    A:\n",
      "    C:\n",
      "    B:\n",
      "    E:\n",
      "    D:\n",
      "    G:\n",
      "    F:\n",
      "    H:\n",
      "\n",
      "\n"
     ]
    }
   ],
   "source": [
    "print(conf_network)"
   ]
  },
  {
   "cell_type": "code",
   "execution_count": 21,
   "metadata": {
    "collapsed": false,
    "deletable": true,
    "editable": true
   },
   "outputs": [],
   "source": [
    "conf_services = \"\"\n",
    "counter = 0\n",
    "for machine_name, interfaces in machines.items():\n",
    "    conf_links = \"\"\n",
    "    for link, _ in interfaces:\n",
    "        conf_links = conf_links + Template(service_link_template).render(link=link)\n",
    "    conf_services = conf_services + Template(service_template).render(machine_name=machine_name, image_name=IMAGE_NAME, number=counter, links=conf_links)\n",
    "    counter += 1\n",
    "    \n",
    "conf_services = Template(service_block_template).render(services=conf_services)"
   ]
  },
  {
   "cell_type": "code",
   "execution_count": 22,
   "metadata": {
    "collapsed": false,
    "deletable": true,
    "editable": true
   },
   "outputs": [
    {
     "name": "stdout",
     "output_type": "stream",
     "text": [
      "version: '2.1'\n",
      "\n",
      "services:\n",
      "    host:\n",
      "        image: quagga\n",
      "        privileged: true\n",
      "        container_name: netkit-host\n",
      "        ports:\n",
      "            - 8080:80\n",
      "        networks:\n",
      "            A:\n",
      "\n",
      "    server:\n",
      "        image: quagga\n",
      "        privileged: true\n",
      "        container_name: netkit-server\n",
      "        ports:\n",
      "            - 8081:80\n",
      "        networks:\n",
      "            B:\n",
      "\n",
      "    rip2:\n",
      "        image: quagga\n",
      "        privileged: true\n",
      "        container_name: netkit-rip2\n",
      "        ports:\n",
      "            - 8082:80\n",
      "        networks:\n",
      "            B:\n",
      "            H:\n",
      "\n",
      "    rip1:\n",
      "        image: quagga\n",
      "        privileged: true\n",
      "        container_name: netkit-rip1\n",
      "        ports:\n",
      "            - 8083:80\n",
      "        networks:\n",
      "            H:\n",
      "            G:\n",
      "\n",
      "    br:\n",
      "        image: quagga\n",
      "        privileged: true\n",
      "        container_name: netkit-br\n",
      "        ports:\n",
      "            - 8084:80\n",
      "        networks:\n",
      "            G:\n",
      "            F:\n",
      "\n",
      "    ospf1:\n",
      "        image: quagga\n",
      "        privileged: true\n",
      "        container_name: netkit-ospf1\n",
      "        ports:\n",
      "            - 8085:80\n",
      "        networks:\n",
      "            C:\n",
      "            E:\n",
      "            F:\n",
      "\n",
      "    ospf3:\n",
      "        image: quagga\n",
      "        privileged: true\n",
      "        container_name: netkit-ospf3\n",
      "        ports:\n",
      "            - 8086:80\n",
      "        networks:\n",
      "            A:\n",
      "            D:\n",
      "            C:\n",
      "\n",
      "    ospf2:\n",
      "        image: quagga\n",
      "        privileged: true\n",
      "        container_name: netkit-ospf2\n",
      "        ports:\n",
      "            - 8087:80\n",
      "        networks:\n",
      "            D:\n",
      "            E:\n",
      "\n",
      "\n",
      "\n"
     ]
    }
   ],
   "source": [
    "print(conf_services)"
   ]
  },
  {
   "cell_type": "markdown",
   "metadata": {
    "collapsed": true,
    "deletable": true,
    "editable": true
   },
   "source": [
    "# Generation of docker run and docker network commands (lstart)"
   ]
  },
  {
   "cell_type": "code",
   "execution_count": 23,
   "metadata": {
    "collapsed": false,
    "deletable": true,
    "editable": true
   },
   "outputs": [],
   "source": [
    "create_network_template = 'docker network create '\n",
    "create_network_commands = []\n",
    "for link in links:\n",
    "    create_network_commands.append(create_network_template + link)"
   ]
  },
  {
   "cell_type": "code",
   "execution_count": 24,
   "metadata": {
    "collapsed": false,
    "deletable": true,
    "editable": true
   },
   "outputs": [],
   "source": [
    "if platform != 'Windows':\n",
    "    docker = 'docker'\n",
    "else: \n",
    "    docker = 'sudo docker'\n",
    "\n",
    "create_machine_template = docker + ' run -d --privileged --name {machine_name} -p --hostname={machine_name} 808{number}:80 --network={first_link} {image_name}'\n",
    "# we could use -ti -a stdin -a stdout and then /bin/bash -c \"commands;bash\", \n",
    "# but that woult execute commands like ifconfig BEFORE all the networks are linked\n",
    "create_machine_commands = []\n",
    "\n",
    "create_connection_template = docker + ' network connect {link} {machine_name}'\n",
    "create_connection_commands = []\n",
    "\n",
    "copy_folder_template = docker + ' cp ' + PATH_TO_LAB + '{machine_name}/etc {machine_name}:/'\n",
    "copy_folder_commands = []\n",
    "\n",
    "exec_template = docker + ' exec {params} -ti --privileged=true {machine_name} {command}'\n",
    "exec_commands = []\n",
    "\n",
    "count = 0\n",
    "def replace_multiple_items(repls, string):\n",
    "    return reduce(lambda a, kv: a.replace(*kv), repls, string)\n",
    "\n",
    "for machine_name, interfaces in machines.items():\n",
    "    repls = ('{machine_name}', machine_name), ('{number}', str(count)), ('{first_link}', interfaces[0][0]), ('{image_name}', IMAGE_NAME)\n",
    "    create_machine_commands.append(replace_multiple_items(repls, create_machine_template))\n",
    "    count += 1\n",
    "    for link,_ in interfaces[1:]:\n",
    "        repls = ('{link}', link), ('{machine_name}', machine_name)\n",
    "        create_connection_commands.append(replace_multiple_items(repls, create_connection_template))\n",
    "    repls = ('{machine_name}', machine_name), ('{machine_name}', machine_name)\n",
    "    copy_folder_commands.append(replace_multiple_items(repls, copy_folder_template))\n",
    "    repls = ('{machine_name}', machine_name), ('{command}', 'bash  -c \"echo -ne \\'\\\\033]0;' + machine_name + '\\\\007\\'; bash\"'), ('{params}', '-e TERM=debian')\n",
    "    exec_commands.append(replace_multiple_items(repls, exec_template))\n",
    "    \n",
    "    \n",
    "# for each machine we have to get the machine.startup file and insert every non empty line as a string inside an array\n",
    "startup_commands = []\n",
    "for machine_name, _ in machines.items():\n",
    "    f = open(PATH_TO_LAB + machine_name + '.startup', 'r')\n",
    "    for line in f:\n",
    "        if line.strip() and line not in ['\\n', '\\r\\n']:\n",
    "            repls = ('{machine_name}', machine_name), ('{command}', line.strip()), ('{params}', '-d')\n",
    "            startup_commands.append(replace_multiple_items(repls, exec_template))\n",
    "    f.close()"
   ]
  },
  {
   "cell_type": "code",
   "execution_count": 25,
   "metadata": {
    "collapsed": false,
    "deletable": true,
    "editable": true
   },
   "outputs": [
    {
     "name": "stdout",
     "output_type": "stream",
     "text": [
      "[u'docker network create A', u'docker network create C', u'docker network create B', u'docker network create E', u'docker network create D', u'docker network create G', u'docker network create F', u'docker network create H']\n",
      "[u'docker run -d --privileged --name host -p 8080:80 --network=A quagga', u'docker run -d --privileged --name server -p 8081:80 --network=B quagga', u'docker run -d --privileged --name rip2 -p 8082:80 --network=B quagga', u'docker run -d --privileged --name rip1 -p 8083:80 --network=H quagga', u'docker run -d --privileged --name br -p 8084:80 --network=G quagga', u'docker run -d --privileged --name ospf1 -p 8085:80 --network=C quagga', u'docker run -d --privileged --name ospf3 -p 8086:80 --network=A quagga', u'docker run -d --privileged --name ospf2 -p 8087:80 --network=D quagga']\n",
      "[u'docker network connect H rip2', u'docker network connect G rip1', u'docker network connect F br', u'docker network connect E ospf1', u'docker network connect F ospf1', u'docker network connect D ospf3', u'docker network connect C ospf3', u'docker network connect E ospf2']\n",
      "['docker cp shared/MARACAS_lab/host/etc host:/', 'docker cp shared/MARACAS_lab/server/etc server:/', 'docker cp shared/MARACAS_lab/rip2/etc rip2:/', 'docker cp shared/MARACAS_lab/rip1/etc rip1:/', 'docker cp shared/MARACAS_lab/br/etc br:/', 'docker cp shared/MARACAS_lab/ospf1/etc ospf1:/', 'docker cp shared/MARACAS_lab/ospf3/etc ospf3:/', 'docker cp shared/MARACAS_lab/ospf2/etc ospf2:/']\n"
     ]
    }
   ],
   "source": [
    "print create_network_commands\n",
    "print create_machine_commands\n",
    "print create_connection_commands\n",
    "print copy_folder_commands"
   ]
  },
  {
   "cell_type": "code",
   "execution_count": 26,
   "metadata": {
    "collapsed": true,
    "deletable": true,
    "editable": true
   },
   "outputs": [],
   "source": [
    "commands = create_network_commands + create_machine_commands + create_connection_commands + copy_folder_commands"
   ]
  },
  {
   "cell_type": "code",
   "execution_count": 27,
   "metadata": {
    "collapsed": false,
    "deletable": true,
    "editable": true
   },
   "outputs": [
    {
     "name": "stdout",
     "output_type": "stream",
     "text": [
      "[u'docker network create A', u'docker network create C', u'docker network create B', u'docker network create E', u'docker network create D', u'docker network create G', u'docker network create F', u'docker network create H', u'docker run -d --privileged --name host -p 8080:80 --network=A quagga', u'docker run -d --privileged --name server -p 8081:80 --network=B quagga', u'docker run -d --privileged --name rip2 -p 8082:80 --network=B quagga', u'docker run -d --privileged --name rip1 -p 8083:80 --network=H quagga', u'docker run -d --privileged --name br -p 8084:80 --network=G quagga', u'docker run -d --privileged --name ospf1 -p 8085:80 --network=C quagga', u'docker run -d --privileged --name ospf3 -p 8086:80 --network=A quagga', u'docker run -d --privileged --name ospf2 -p 8087:80 --network=D quagga', u'docker network connect H rip2', u'docker network connect G rip1', u'docker network connect F br', u'docker network connect E ospf1', u'docker network connect F ospf1', u'docker network connect D ospf3', u'docker network connect C ospf3', u'docker network connect E ospf2', 'docker cp shared/MARACAS_lab/host/etc host:/', 'docker cp shared/MARACAS_lab/server/etc server:/', 'docker cp shared/MARACAS_lab/rip2/etc rip2:/', 'docker cp shared/MARACAS_lab/rip1/etc rip1:/', 'docker cp shared/MARACAS_lab/br/etc br:/', 'docker cp shared/MARACAS_lab/ospf1/etc ospf1:/', 'docker cp shared/MARACAS_lab/ospf3/etc ospf3:/', 'docker cp shared/MARACAS_lab/ospf2/etc ospf2:/']\n"
     ]
    }
   ],
   "source": [
    "print commands"
   ]
  },
  {
   "cell_type": "code",
   "execution_count": 28,
   "metadata": {
    "collapsed": false,
    "deletable": true,
    "editable": true
   },
   "outputs": [
    {
     "name": "stdout",
     "output_type": "stream",
     "text": [
      "['docker exec -d -ti --privileged=true host ifconfig eth0 1.0.0.2/24 up', 'docker exec -d -ti --privileged=true host route add default gw 1.0.0.1', 'docker exec -d -ti --privileged=true server ifconfig eth0 2.0.0.2/24 up', 'docker exec -d -ti --privileged=true server route add default gw 2.0.0.1', 'docker exec -d -ti --privileged=true server /etc/init.d/apache2 start', 'docker exec -d -ti --privileged=true rip2 ifconfig eth0 2.0.0.1/24 up', 'docker exec -d -ti --privileged=true rip2 ifconfig eth1 11.0.0.2/30 up', 'docker exec -d -ti --privileged=true rip2 /etc/init.d/zebra start', 'docker exec -d -ti --privileged=true rip1 ifconfig eth0 11.0.0.1/30', 'docker exec -d -ti --privileged=true rip1 ifconfig eth1 11.1.0.2/30', 'docker exec -d -ti --privileged=true rip1 /etc/init.d/zebra start', 'docker exec -d -ti --privileged=true br ifconfig eth0 11.1.0.1/30 up', 'docker exec -d -ti --privileged=true br ifconfig eth1 10.1.0.1/30 up', 'docker exec -d -ti --privileged=true br /etc/init.d/zebra start', 'docker exec -d -ti --privileged=true ospf1 ifconfig eth0 10.0.0.2/30 up', 'docker exec -d -ti --privileged=true ospf1 ifconfig eth1 10.0.0.10/30 up', 'docker exec -d -ti --privileged=true ospf1 ifconfig eth2 10.1.0.2/30 up', 'docker exec -d -ti --privileged=true ospf1 /etc/init.d/zebra start', 'docker exec -d -ti --privileged=true ospf3 ifconfig eth0 1.0.0.1/24 up', 'docker exec -d -ti --privileged=true ospf3 ifconfig eth1 10.0.0.5/30 up', 'docker exec -d -ti --privileged=true ospf3 ifconfig eth2 10.0.0.1/30 up', 'docker exec -d -ti --privileged=true ospf3 /etc/init.d/zebra start', 'docker exec -d -ti --privileged=true ospf2 ifconfig eth0 10.0.0.6/30 up', 'docker exec -d -ti --privileged=true ospf2 ifconfig eth1 10.0.0.9/30 up', 'docker exec -d -ti --privileged=true ospf2 /etc/init.d/zebra start']\n"
     ]
    }
   ],
   "source": [
    "print startup_commands"
   ]
  },
  {
   "cell_type": "code",
   "execution_count": 29,
   "metadata": {
    "collapsed": false,
    "deletable": true,
    "editable": true
   },
   "outputs": [
    {
     "name": "stdout",
     "output_type": "stream",
     "text": [
      "['docker exec -e TERM=debian -ti --privileged=true host bash  -c \"echo -e \\'\\\\033]0;host\\\\007\\'; bash\"', 'docker exec -e TERM=debian -ti --privileged=true server bash  -c \"echo -e \\'\\\\033]0;server\\\\007\\'; bash\"', 'docker exec -e TERM=debian -ti --privileged=true rip2 bash  -c \"echo -e \\'\\\\033]0;rip2\\\\007\\'; bash\"', 'docker exec -e TERM=debian -ti --privileged=true rip1 bash  -c \"echo -e \\'\\\\033]0;rip1\\\\007\\'; bash\"', 'docker exec -e TERM=debian -ti --privileged=true br bash  -c \"echo -e \\'\\\\033]0;br\\\\007\\'; bash\"', 'docker exec -e TERM=debian -ti --privileged=true ospf1 bash  -c \"echo -e \\'\\\\033]0;ospf1\\\\007\\'; bash\"', 'docker exec -e TERM=debian -ti --privileged=true ospf3 bash  -c \"echo -e \\'\\\\033]0;ospf3\\\\007\\'; bash\"', 'docker exec -e TERM=debian -ti --privileged=true ospf2 bash  -c \"echo -e \\'\\\\033]0;ospf2\\\\007\\'; bash\"']\n"
     ]
    }
   ],
   "source": [
    "print exec_commands"
   ]
  },
  {
   "cell_type": "markdown",
   "metadata": {
    "deletable": true,
    "editable": true
   },
   "source": [
    "# Run command to create lab"
   ]
  },
  {
   "cell_type": "code",
   "execution_count": 30,
   "metadata": {
    "collapsed": false,
    "deletable": true,
    "editable": true
   },
   "outputs": [],
   "source": [
    "import subprocess\n",
    "def run_command_detatched(cmd_line):\n",
    "    p = subprocess.Popen(cmd_line, shell=True, stdout=subprocess.PIPE, stderr=subprocess.STDOUT)\n",
    "    out = p.communicate()[0]\n",
    "    return out"
   ]
  },
  {
   "cell_type": "code",
   "execution_count": 31,
   "metadata": {
    "collapsed": false,
    "deletable": true,
    "editable": true
   },
   "outputs": [
    {
     "name": "stdout",
     "output_type": "stream",
     "text": [
      "\r\n",
      "Esecuzione di Ping www.google.com [172.217.20.196] con 32 byte di dati:\r\n",
      "Risposta da 172.217.20.196: byte=32 durata=42ms TTL=50\r\n",
      "Risposta da 172.217.20.196: byte=32 durata=44ms TTL=50\r\n",
      "Risposta da 172.217.20.196: byte=32 durata=43ms TTL=50\r\n",
      "Risposta da 172.217.20.196: byte=32 durata=41ms TTL=50\r\n",
      "\r\n",
      "Statistiche Ping per 172.217.20.196:\r\n",
      "    Pacchetti: Trasmessi = 4, Ricevuti = 4, \r\n",
      "    Persi = 0 (0% persi),\r\n",
      "Tempo approssimativo percorsi andata/ritorno in millisecondi:\r\n",
      "    Minimo = 41ms, Massimo =  44ms, Medio =  42ms\r\n",
      "\r\n",
      "Esecuzione di Ping www.google.com [172.217.20.196] con 32 byte di dati:\r\n",
      "Risposta da 172.217.20.196: byte=32 durata=39ms TTL=50\r\n",
      "Risposta da 172.217.20.196: byte=32 durata=61ms TTL=50\r\n",
      "Risposta da 172.217.20.196: byte=32 durata=40ms TTL=50\r\n",
      "Risposta da 172.217.20.196: byte=32 durata=40ms TTL=50\r\n",
      "\r\n",
      "Statistiche Ping per 172.217.20.196:\r\n",
      "    Pacchetti: Trasmessi = 4, Ricevuti = 4, \r\n",
      "    Persi = 0 (0% persi),\r\n",
      "Tempo approssimativo percorsi andata/ritorno in millisecondi:\r\n",
      "    Minimo = 39ms, Massimo =  61ms, Medio =  45ms\r\n",
      "\n"
     ]
    }
   ],
   "source": [
    "if DEBUG: print run_command_detatched('ping www.google.com & ping www.google.com')"
   ]
  },
  {
   "cell_type": "code",
   "execution_count": 32,
   "metadata": {
    "collapsed": true,
    "deletable": true,
    "editable": true
   },
   "outputs": [],
   "source": [
    "separator_unix = ' ; '\n",
    "separator_windows = ' & '\n",
    "\n",
    "open_bash_separator = ''\n",
    "\n",
    "if platform == \"Windows\":\n",
    "    open_bash_separator = separator_windows\n",
    "elif platform == \"MAC OS X\":\n",
    "    open_bash_separator = separator_unix\n",
    "else: #linux or linux2\n",
    "    open_bash_separator = separator_unix"
   ]
  },
  {
   "cell_type": "code",
   "execution_count": 33,
   "metadata": {
    "collapsed": false,
    "deletable": true,
    "editable": true
   },
   "outputs": [
    {
     "name": "stdout",
     "output_type": "stream",
     "text": [
      "docker network create A & docker network create C & docker network create B & docker network create E & docker network create D & docker network create G & docker network create F & docker network create H & docker run -d --privileged --name host -p 8080:80 --network=A quagga & docker run -d --privileged --name server -p 8081:80 --network=B quagga & docker run -d --privileged --name rip2 -p 8082:80 --network=B quagga & docker run -d --privileged --name rip1 -p 8083:80 --network=H quagga & docker run -d --privileged --name br -p 8084:80 --network=G quagga & docker run -d --privileged --name ospf1 -p 8085:80 --network=C quagga & docker run -d --privileged --name ospf3 -p 8086:80 --network=A quagga & docker run -d --privileged --name ospf2 -p 8087:80 --network=D quagga & docker network connect H rip2 & docker network connect G rip1 & docker network connect F br & docker network connect E ospf1 & docker network connect F ospf1 & docker network connect D ospf3 & docker network connect C ospf3 & docker network connect E ospf2 & docker cp shared/MARACAS_lab/host/etc host:/ & docker cp shared/MARACAS_lab/server/etc server:/ & docker cp shared/MARACAS_lab/rip2/etc rip2:/ & docker cp shared/MARACAS_lab/rip1/etc rip1:/ & docker cp shared/MARACAS_lab/br/etc br:/ & docker cp shared/MARACAS_lab/ospf1/etc ospf1:/ & docker cp shared/MARACAS_lab/ospf3/etc ospf3:/ & docker cp shared/MARACAS_lab/ospf2/etc ospf2:/ \n"
     ]
    }
   ],
   "source": [
    "lab_create_command_string = ''\n",
    "for command in commands:\n",
    "    lab_create_command_string += command + open_bash_separator\n",
    "lab_create_command_string = lab_create_command_string[:len(lab_create_command_string)-2]\n",
    "if DEBUG: print lab_create_command_string"
   ]
  },
  {
   "cell_type": "code",
   "execution_count": 34,
   "metadata": {
    "collapsed": false,
    "deletable": true,
    "editable": true
   },
   "outputs": [
    {
     "name": "stdout",
     "output_type": "stream",
     "text": [
      "dc6422fe70d9c0d632ff7e2c7aaee513c39acd4610b4389f4e819bca622d2b8d\n",
      "92918be80fd38e4e0d2b79b8f7e3f4a36834cd5d85bea61c9d22cedcf41d3c63\n",
      "563a375c2c9be91104771d6729d54f3c7e127c2cb81f78a6804f3fd346b874e1\n",
      "7e36f9847babca5747fd62c2494aed636a775bd9bd56aa46637510ac522717a2\n",
      "52d6fdbb512d75eaa0badf62abff46b693f58903b47c1b56d8e4fdfc0446f0f1\n",
      "9c54d6b2f1d64c0e55823cb4039f29035f83daeaa3047edc13dba6ed67c54538\n",
      "d1817f95e0429253a7e9e677694c6efb2aa6a6215976012b02f11a7efc115cb4\n",
      "2121b8cedfc29aff7a108dbf5cfc56607dc499833201ed93b4e45e85f0876959\n",
      "33399d96219f2a2fd2302e635d2fd207cdf7d66b5e3b6936bef164a868b05113\n",
      "501b005c26b3bb6dbc30684266d98225b056cfef5805e62dd0174c4edcc85570\n",
      "dce00cc6e5e4a11c2af9e6cab2c4c152b162b8c196475d6b7fe3169b1625a035\n",
      "9b58a9d9b2d9017db553073187f5db76d58b4b5497aaa03aa7c58264cd353e79\n",
      "08c56d4073be205d2a907afe58e59b13adb7646a806be71dcc40e22dae01f57c\n",
      "598cf29dc0a0a750fc3c5a65ce7df56b775bca64bdc48e498d0e2084b883641a\n",
      "264f6a19f0ace2280c7109e8d282d94a717269186c2c3871354b6ce351702824\n",
      "89e388097145367cd0f655c51ca55b307b9790353841de38f6ec9f98839b352f\n",
      "GetFileAttributesEx C:\\Users\\Gaetano\\Documents\\Git\\Netkit-Python-Docker-core\\test\\shared\\MARACAS_lab\\host\\etc: Impossibile trovare il file specificato.\n",
      "GetFileAttributesEx C:\\Users\\Gaetano\\Documents\\Git\\Netkit-Python-Docker-core\\test\\shared\\MARACAS_lab\\server\\etc: Impossibile trovare il file specificato.\n",
      "\n"
     ]
    }
   ],
   "source": [
    "print run_command_detatched(lab_create_command_string)"
   ]
  },
  {
   "cell_type": "markdown",
   "metadata": {
    "deletable": true,
    "editable": true
   },
   "source": [
    "# Run startup commands inside lab and attach to lab"
   ]
  },
  {
   "cell_type": "code",
   "execution_count": 35,
   "metadata": {
    "collapsed": false,
    "deletable": true,
    "editable": true
   },
   "outputs": [
    {
     "data": {
      "text/plain": [
       "0"
      ]
     },
     "execution_count": 35,
     "metadata": {},
     "output_type": "execute_result"
    }
   ],
   "source": [
    "os.system('start /wait cmd /c \"ping www.google.com & cmd.exe\"')"
   ]
  },
  {
   "cell_type": "code",
   "execution_count": 36,
   "metadata": {
    "collapsed": false,
    "deletable": true,
    "editable": true
   },
   "outputs": [
    {
     "data": {
      "text/plain": [
       "1"
      ]
     },
     "execution_count": 36,
     "metadata": {},
     "output_type": "execute_result"
    }
   ],
   "source": [
    "os.system(LINUX_TERMINAL_TYPE + ' -e \\'bash -c \"ping www.google.com; exec bash\"\\'')"
   ]
  },
  {
   "cell_type": "code",
   "execution_count": 37,
   "metadata": {
    "collapsed": false,
    "deletable": true,
    "editable": true
   },
   "outputs": [
    {
     "data": {
      "text/plain": [
       "1"
      ]
     },
     "execution_count": 37,
     "metadata": {},
     "output_type": "execute_result"
    }
   ],
   "source": [
    "os.system('Terminal.app -c \"ping www.google.com; exec Terminal.app\"') # not tested yet"
   ]
  },
  {
   "cell_type": "code",
   "execution_count": 38,
   "metadata": {
    "collapsed": false,
    "deletable": true,
    "editable": true
   },
   "outputs": [],
   "source": [
    "open_bash_template_linux = LINUX_TERMINAL_TYPE + ' -e \\'bash -c \"{commands}\"\\''\n",
    "open_bash_template_windows = 'start cmd /k \"{commands}\"'\n",
    "open_bash_template_osx = 'Terminal.app -e \\'bash -c \"{commands}\"\\''  # not tested yet\n",
    "\n",
    "open_bash_template = ''\n",
    "\n",
    "if platform == \"Windows\":\n",
    "    open_bash_template = open_bash_template_windows\n",
    "elif platform == \"MAC OS X\":\n",
    "    open_bash_template = open_bash_template_osx\n",
    "else: #linux or linux2\n",
    "    open_bash_template = open_bash_template_linux"
   ]
  },
  {
   "cell_type": "code",
   "execution_count": 39,
   "metadata": {
    "collapsed": false,
    "deletable": true,
    "editable": true
   },
   "outputs": [
    {
     "name": "stdout",
     "output_type": "stream",
     "text": [
      "\n",
      "\n",
      "\n",
      "\n",
      "Error response from daemon: rpc error: code = 2 desc = oci runtime error: exec failed: container_linux.go:247: starting container process caused \"exec: \\\"/etc/init.d/apache2\\\": stat /etc/init.d/apache2: no such file or directory\"\n",
      "\n",
      "\n",
      "\n",
      "Error response from daemon: rpc error: code = 2 desc = oci runtime error: exec failed: container_linux.go:247: starting container process caused \"exec: \\\"/etc/init.d/zebra\\\": stat /etc/init.d/zebra: no such file or directory\"\n",
      "\n",
      "\n",
      "\n",
      "Error response from daemon: rpc error: code = 2 desc = oci runtime error: exec failed: container_linux.go:247: starting container process caused \"exec: \\\"/etc/init.d/zebra\\\": stat /etc/init.d/zebra: no such file or directory\"\n",
      "\n",
      "\n",
      "\n",
      "Error response from daemon: rpc error: code = 2 desc = oci runtime error: exec failed: container_linux.go:247: starting container process caused \"exec: \\\"/etc/init.d/zebra\\\": stat /etc/init.d/zebra: no such file or directory\"\n",
      "\n",
      "\n",
      "\n",
      "\n",
      "Error response from daemon: rpc error: code = 2 desc = oci runtime error: exec failed: container_linux.go:247: starting container process caused \"exec: \\\"/etc/init.d/zebra\\\": stat /etc/init.d/zebra: no such file or directory\"\n",
      "\n",
      "\n",
      "\n",
      "\n",
      "Error response from daemon: rpc error: code = 2 desc = oci runtime error: exec failed: container_linux.go:247: starting container process caused \"exec: \\\"/etc/init.d/zebra\\\": stat /etc/init.d/zebra: no such file or directory\"\n",
      "\n",
      "\n",
      "\n",
      "Error response from daemon: rpc error: code = 2 desc = oci runtime error: exec failed: container_linux.go:247: starting container process caused \"exec: \\\"/etc/init.d/zebra\\\": stat /etc/init.d/zebra: no such file or directory\"\n",
      "\n"
     ]
    }
   ],
   "source": [
    "for startup_command in startup_commands:\n",
    "    print run_command_detatched(startup_command)"
   ]
  },
  {
   "cell_type": "code",
   "execution_count": 40,
   "metadata": {
    "collapsed": false,
    "deletable": true,
    "editable": true
   },
   "outputs": [
    {
     "name": "stdout",
     "output_type": "stream",
     "text": [
      "start cmd /k \"docker exec -e TERM=debian -ti --privileged=true host bash  -c \"echo -e '\\033]0;host\\007'; bash\"\" & start cmd /k \"docker exec -e TERM=debian -ti --privileged=true server bash  -c \"echo -e '\\033]0;server\\007'; bash\"\" & start cmd /k \"docker exec -e TERM=debian -ti --privileged=true rip2 bash  -c \"echo -e '\\033]0;rip2\\007'; bash\"\" & start cmd /k \"docker exec -e TERM=debian -ti --privileged=true rip1 bash  -c \"echo -e '\\033]0;rip1\\007'; bash\"\" & start cmd /k \"docker exec -e TERM=debian -ti --privileged=true br bash  -c \"echo -e '\\033]0;br\\007'; bash\"\" & start cmd /k \"docker exec -e TERM=debian -ti --privileged=true ospf1 bash  -c \"echo -e '\\033]0;ospf1\\007'; bash\"\" & start cmd /k \"docker exec -e TERM=debian -ti --privileged=true ospf3 bash  -c \"echo -e '\\033]0;ospf3\\007'; bash\"\" & start cmd /k \"docker exec -e TERM=debian -ti --privileged=true ospf2 bash  -c \"echo -e '\\033]0;ospf2\\007'; bash\"\" \n"
     ]
    }
   ],
   "source": [
    "command_string = ''\n",
    "for command in exec_commands:\n",
    "    command_string += open_bash_template.replace('{commands}', command) + open_bash_separator\n",
    "command_string = command_string[:len(command_string)-2]\n",
    "if DEBUG: print command_string"
   ]
  },
  {
   "cell_type": "code",
   "execution_count": 41,
   "metadata": {
    "collapsed": false,
    "deletable": true,
    "editable": true
   },
   "outputs": [
    {
     "name": "stdout",
     "output_type": "stream",
     "text": [
      "start cmd /k \"start cmd /k \"docker exec -e TERM=debian -ti --privileged=true host bash  -c \"echo -e '\\033]0;host\\007'; bash\"\" & start cmd /k \"docker exec -e TERM=debian -ti --privileged=true server bash  -c \"echo -e '\\033]0;server\\007'; bash\"\" & start cmd /k \"docker exec -e TERM=debian -ti --privileged=true rip2 bash  -c \"echo -e '\\033]0;rip2\\007'; bash\"\" & start cmd /k \"docker exec -e TERM=debian -ti --privileged=true rip1 bash  -c \"echo -e '\\033]0;rip1\\007'; bash\"\" & start cmd /k \"docker exec -e TERM=debian -ti --privileged=true br bash  -c \"echo -e '\\033]0;br\\007'; bash\"\" & start cmd /k \"docker exec -e TERM=debian -ti --privileged=true ospf1 bash  -c \"echo -e '\\033]0;ospf1\\007'; bash\"\" & start cmd /k \"docker exec -e TERM=debian -ti --privileged=true ospf3 bash  -c \"echo -e '\\033]0;ospf3\\007'; bash\"\" & start cmd /k \"docker exec -e TERM=debian -ti --privileged=true ospf2 bash  -c \"echo -e '\\033]0;ospf2\\007'; bash\"\" \"\n"
     ]
    }
   ],
   "source": [
    "print(open_bash_template.replace('{commands}', command_string))"
   ]
  },
  {
   "cell_type": "code",
   "execution_count": 42,
   "metadata": {
    "collapsed": false,
    "deletable": true,
    "editable": true
   },
   "outputs": [
    {
     "data": {
      "text/plain": [
       "0"
      ]
     },
     "execution_count": 42,
     "metadata": {},
     "output_type": "execute_result"
    }
   ],
   "source": [
    "os.system(open_bash_template.replace('{commands}', command_string))"
   ]
  },
  {
   "cell_type": "code",
   "execution_count": null,
   "metadata": {
    "collapsed": true,
    "deletable": true,
    "editable": true
   },
   "outputs": [],
   "source": []
  }
 ],
 "metadata": {
  "kernelspec": {
   "display_name": "Python 2",
   "language": "python",
   "name": "python2"
  },
  "language_info": {
   "codemirror_mode": {
    "name": "ipython",
    "version": 2
   },
   "file_extension": ".py",
   "mimetype": "text/x-python",
   "name": "python",
   "nbconvert_exporter": "python",
   "pygments_lexer": "ipython2",
   "version": "2.7.13"
  }
 },
 "nbformat": 4,
 "nbformat_minor": 2
}
