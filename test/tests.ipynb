{
 "cells": [
  {
   "cell_type": "code",
   "execution_count": 1,
   "metadata": {
    "collapsed": false,
    "deletable": true,
    "editable": true
   },
   "outputs": [],
   "source": [
    "from mako.template import Template\n",
    "import argparse\n",
    "import configparser\n",
    "from itertools import chain\n",
    "import re"
   ]
  },
  {
   "cell_type": "code",
   "execution_count": 2,
   "metadata": {
    "collapsed": true,
    "deletable": true,
    "editable": true
   },
   "outputs": [],
   "source": [
    "DEBUG = True\n",
    "IMAGE_NAME = 'quagga'"
   ]
  },
  {
   "cell_type": "markdown",
   "metadata": {
    "deletable": true,
    "editable": true
   },
   "source": [
    "# Parsing of lab.conf"
   ]
  },
  {
   "cell_type": "code",
   "execution_count": 3,
   "metadata": {
    "collapsed": true,
    "deletable": true,
    "editable": true
   },
   "outputs": [],
   "source": [
    "config = configparser.ConfigParser()"
   ]
  },
  {
   "cell_type": "code",
   "execution_count": 4,
   "metadata": {
    "collapsed": false,
    "deletable": true,
    "editable": true
   },
   "outputs": [],
   "source": [
    "# reads lab.conf\n",
    "with open('shared/MARACAS_lab/lab.conf') as stream:\n",
    "    # adds a section to mimic a .ini file\n",
    "    stream = chain((\"[dummysection]\",), stream)\n",
    "    config.read_file(stream)"
   ]
  },
  {
   "cell_type": "code",
   "execution_count": 5,
   "metadata": {
    "collapsed": false,
    "deletable": true,
    "editable": true
   },
   "outputs": [
    {
     "name": "stdout",
     "output_type": "stream",
     "text": [
      "('lab_description', u'\"absaaaaaaaaaaaaaaaaa\"')\n",
      "('lab_version', u'\"1.0\"')\n",
      "('lab_author', u'\"aaaaaaaaaaaaaaaa\"')\n",
      "('lab_email', u'\"aaaaaaaaa@aaaaaaaaaaaaaa\"')\n",
      "('host[0]', u'A')\n",
      "('server[0]', u'B')\n",
      "('ospf1[0]', u'C')\n",
      "('ospf1[1]', u'E')\n",
      "('ospf1[2]', u'F')\n",
      "('ospf2[0]', u'D')\n",
      "('ospf2[1]', u'E')\n",
      "('ospf3[0]', u'A')\n",
      "('ospf3[1]', u'D')\n",
      "('ospf3[2]', u'C')\n",
      "('br[0]', u'G')\n",
      "('br[1]', u'F')\n",
      "('rip1[0]', u'H')\n",
      "('rip1[1]', u'G')\n",
      "('rip2[0]', u'B')\n",
      "('rip2[1]', u'H')\n"
     ]
    }
   ],
   "source": [
    "# gets 2 list of keys, one for machines and the other for the metadata\n",
    "# we also need a unique list of links\n",
    "keys = []\n",
    "m_keys = []\n",
    "links = []\n",
    "for key in config['dummysection']: \n",
    "    if DEBUG: print(key, config['dummysection'][key])\n",
    "    if '[' in key and ']' in key:\n",
    "        keys.append(key)\n",
    "        links.append(config['dummysection'][key])\n",
    "    else:\n",
    "        m_keys.append(key)"
   ]
  },
  {
   "cell_type": "code",
   "execution_count": 6,
   "metadata": {
    "collapsed": false,
    "deletable": true,
    "editable": true
   },
   "outputs": [
    {
     "data": {
      "text/plain": [
       "u'A'"
      ]
     },
     "execution_count": 6,
     "metadata": {},
     "output_type": "execute_result"
    }
   ],
   "source": [
    "config['dummysection'][keys[0]]"
   ]
  },
  {
   "cell_type": "code",
   "execution_count": 7,
   "metadata": {
    "collapsed": true,
    "deletable": true,
    "editable": true
   },
   "outputs": [],
   "source": [
    "# we only need unique links\n",
    "links = set(links)"
   ]
  },
  {
   "cell_type": "code",
   "execution_count": 8,
   "metadata": {
    "collapsed": false,
    "deletable": true,
    "editable": true
   },
   "outputs": [
    {
     "data": {
      "text/plain": [
       "{u'A', u'B', u'C', u'D', u'E', u'F', u'G', u'H'}"
      ]
     },
     "execution_count": 8,
     "metadata": {},
     "output_type": "execute_result"
    }
   ],
   "source": [
    "links"
   ]
  },
  {
   "cell_type": "code",
   "execution_count": 9,
   "metadata": {
    "collapsed": false,
    "deletable": true,
    "editable": true
   },
   "outputs": [],
   "source": [
    "# helper functions for natural sorting\n",
    "def atoi(text):\n",
    "    return int(text) if text.isdigit() else text\n",
    "def natural_keys(text):\n",
    "    return [ atoi(c) for c in re.split('(\\d+)', text) ]\n",
    "\n",
    "# sort the keys so that we keep the order of the interfaces\n",
    "keys.sort(key=natural_keys)"
   ]
  },
  {
   "cell_type": "code",
   "execution_count": 10,
   "metadata": {
    "collapsed": false,
    "deletable": true,
    "editable": true
   },
   "outputs": [
    {
     "data": {
      "text/plain": [
       "['br[0]',\n",
       " 'br[1]',\n",
       " 'host[0]',\n",
       " 'ospf1[0]',\n",
       " 'ospf1[1]',\n",
       " 'ospf1[2]',\n",
       " 'ospf2[0]',\n",
       " 'ospf2[1]',\n",
       " 'ospf3[0]',\n",
       " 'ospf3[1]',\n",
       " 'ospf3[2]',\n",
       " 'rip1[0]',\n",
       " 'rip1[1]',\n",
       " 'rip2[0]',\n",
       " 'rip2[1]',\n",
       " 'server[0]']"
      ]
     },
     "execution_count": 10,
     "metadata": {},
     "output_type": "execute_result"
    }
   ],
   "source": [
    "keys"
   ]
  },
  {
   "cell_type": "code",
   "execution_count": 11,
   "metadata": {
    "collapsed": false,
    "deletable": true,
    "editable": true
   },
   "outputs": [
    {
     "data": {
      "text/plain": [
       "['lab_description', 'lab_version', 'lab_author', 'lab_email']"
      ]
     },
     "execution_count": 11,
     "metadata": {},
     "output_type": "execute_result"
    }
   ],
   "source": [
    "m_keys"
   ]
  },
  {
   "cell_type": "code",
   "execution_count": 12,
   "metadata": {
    "collapsed": false,
    "deletable": true,
    "editable": true
   },
   "outputs": [],
   "source": [
    "# we then get a dictionary of machines ignoring interfaces that have missing positions (eg: 1,3,6 instead of 0,1,2)\n",
    "machines = {}\n",
    "for key in keys: \n",
    "    splitted = key.split('[')\n",
    "    name = splitted[0]\n",
    "    splitted = splitted[1].split(']')\n",
    "    ifnumber = int(splitted[0])\n",
    "    if not machines.get(name):\n",
    "        machines[name] = []\n",
    "    if len(machines[name]) == 0 or machines[name][len(machines[name])-1][1] == ifnumber - 1:\n",
    "        machines[name].append((config['dummysection'][key], ifnumber))"
   ]
  },
  {
   "cell_type": "code",
   "execution_count": 13,
   "metadata": {
    "collapsed": false,
    "deletable": true,
    "editable": true
   },
   "outputs": [
    {
     "data": {
      "text/plain": [
       "{'br': [(u'G', 0), (u'F', 1)],\n",
       " 'host': [(u'A', 0)],\n",
       " 'ospf1': [(u'C', 0), (u'E', 1), (u'F', 2)],\n",
       " 'ospf2': [(u'D', 0), (u'E', 1)],\n",
       " 'ospf3': [(u'A', 0), (u'D', 1), (u'C', 2)],\n",
       " 'rip1': [(u'H', 0), (u'G', 1)],\n",
       " 'rip2': [(u'B', 0), (u'H', 1)],\n",
       " 'server': [(u'B', 0)]}"
      ]
     },
     "execution_count": 13,
     "metadata": {},
     "output_type": "execute_result"
    }
   ],
   "source": [
    "machines"
   ]
  },
  {
   "cell_type": "code",
   "execution_count": 14,
   "metadata": {
    "collapsed": true,
    "deletable": true,
    "editable": true
   },
   "outputs": [],
   "source": [
    "metadata = {}\n",
    "for m_key in m_keys:\n",
    "    if config['dummysection'][m_key].startswith('\"') and config['dummysection'][m_key].endswith('\"'):\n",
    "        config['dummysection'][m_key] = config['dummysection'][m_key][1:-1]\n",
    "    metadata[m_key] = config['dummysection'][m_key]"
   ]
  },
  {
   "cell_type": "code",
   "execution_count": 15,
   "metadata": {
    "collapsed": false,
    "deletable": true,
    "editable": true
   },
   "outputs": [
    {
     "data": {
      "text/plain": [
       "{'lab_author': u'aaaaaaaaaaaaaaaa',\n",
       " 'lab_description': u'absaaaaaaaaaaaaaaaaa',\n",
       " 'lab_email': u'aaaaaaaaa@aaaaaaaaaaaaaa',\n",
       " 'lab_version': u'1.0'}"
      ]
     },
     "execution_count": 15,
     "metadata": {},
     "output_type": "execute_result"
    }
   ],
   "source": [
    "metadata"
   ]
  },
  {
   "cell_type": "markdown",
   "metadata": {
    "collapsed": false,
    "deletable": true,
    "editable": true
   },
   "source": [
    "# Generation of docker-compose.yml (may not be used in the end)"
   ]
  },
  {
   "cell_type": "code",
   "execution_count": 16,
   "metadata": {
    "collapsed": true,
    "deletable": true,
    "editable": true
   },
   "outputs": [],
   "source": [
    "network_block_template = '''networks: \n",
    "${links}\n",
    "'''\n",
    "network_link_template = '''    ${link}:\n",
    "'''\n",
    "service_block_template = '''version: '2.1'\n",
    "\n",
    "services:\n",
    "${services}\n",
    "'''\n",
    "service_template = '''    ${machine_name}:\n",
    "        image: ${image_name}\n",
    "        privileged: true\n",
    "        container_name: netkit-${machine_name}\n",
    "        ports:\n",
    "            - 808${number}:80\n",
    "        networks:\n",
    "${links}\n",
    "'''\n",
    "service_link_template = '''            ${link}:\n",
    "'''\n",
    "# TODO lab.dep with '''depends_on: service: condition: service_healty'''"
   ]
  },
  {
   "cell_type": "code",
   "execution_count": 17,
   "metadata": {
    "collapsed": false,
    "deletable": true,
    "editable": true
   },
   "outputs": [
    {
     "name": "stdout",
     "output_type": "stream",
     "text": [
      "hello world! \n",
      "               \n"
     ]
    }
   ],
   "source": [
    "print(Template('''hello ${data}! \n",
    "               ''').render(data=\"world\"))"
   ]
  },
  {
   "cell_type": "code",
   "execution_count": 18,
   "metadata": {
    "collapsed": false,
    "deletable": true,
    "editable": true
   },
   "outputs": [],
   "source": [
    "conf_network = \"\"\n",
    "for link in links:\n",
    "    conf_network = conf_network + Template(network_link_template).render(link=link)\n",
    "\n",
    "conf_network = Template(network_block_template).render(links=conf_network)"
   ]
  },
  {
   "cell_type": "code",
   "execution_count": 19,
   "metadata": {
    "collapsed": false,
    "deletable": true,
    "editable": true
   },
   "outputs": [
    {
     "name": "stdout",
     "output_type": "stream",
     "text": [
      "networks: \n",
      "    A:\n",
      "    C:\n",
      "    B:\n",
      "    E:\n",
      "    D:\n",
      "    G:\n",
      "    F:\n",
      "    H:\n",
      "\n",
      "\n"
     ]
    }
   ],
   "source": [
    "print(conf_network)"
   ]
  },
  {
   "cell_type": "code",
   "execution_count": 20,
   "metadata": {
    "collapsed": false,
    "deletable": true,
    "editable": true
   },
   "outputs": [],
   "source": [
    "conf_services = \"\"\n",
    "counter = 0\n",
    "for machine_name, interfaces in machines.items():\n",
    "    conf_links = \"\"\n",
    "    for link, _ in interfaces:\n",
    "        conf_links = conf_links + Template(service_link_template).render(link=link)\n",
    "    conf_services = conf_services + Template(service_template).render(machine_name=machine_name, image_name=IMAGE_NAME, number=counter, links=conf_links)\n",
    "    counter += 1\n",
    "    \n",
    "conf_services = Template(service_block_template).render(services=conf_services)"
   ]
  },
  {
   "cell_type": "code",
   "execution_count": 21,
   "metadata": {
    "collapsed": false,
    "deletable": true,
    "editable": true
   },
   "outputs": [
    {
     "name": "stdout",
     "output_type": "stream",
     "text": [
      "version: '2.1'\n",
      "\n",
      "services:\n",
      "    host:\n",
      "        image: quagga\n",
      "        privileged: true\n",
      "        container_name: netkit-host\n",
      "        ports:\n",
      "            - 8080:80\n",
      "        networks:\n",
      "            A:\n",
      "\n",
      "    server:\n",
      "        image: quagga\n",
      "        privileged: true\n",
      "        container_name: netkit-server\n",
      "        ports:\n",
      "            - 8081:80\n",
      "        networks:\n",
      "            B:\n",
      "\n",
      "    rip2:\n",
      "        image: quagga\n",
      "        privileged: true\n",
      "        container_name: netkit-rip2\n",
      "        ports:\n",
      "            - 8082:80\n",
      "        networks:\n",
      "            B:\n",
      "            H:\n",
      "\n",
      "    rip1:\n",
      "        image: quagga\n",
      "        privileged: true\n",
      "        container_name: netkit-rip1\n",
      "        ports:\n",
      "            - 8083:80\n",
      "        networks:\n",
      "            H:\n",
      "            G:\n",
      "\n",
      "    br:\n",
      "        image: quagga\n",
      "        privileged: true\n",
      "        container_name: netkit-br\n",
      "        ports:\n",
      "            - 8084:80\n",
      "        networks:\n",
      "            G:\n",
      "            F:\n",
      "\n",
      "    ospf1:\n",
      "        image: quagga\n",
      "        privileged: true\n",
      "        container_name: netkit-ospf1\n",
      "        ports:\n",
      "            - 8085:80\n",
      "        networks:\n",
      "            C:\n",
      "            E:\n",
      "            F:\n",
      "\n",
      "    ospf3:\n",
      "        image: quagga\n",
      "        privileged: true\n",
      "        container_name: netkit-ospf3\n",
      "        ports:\n",
      "            - 8086:80\n",
      "        networks:\n",
      "            A:\n",
      "            D:\n",
      "            C:\n",
      "\n",
      "    ospf2:\n",
      "        image: quagga\n",
      "        privileged: true\n",
      "        container_name: netkit-ospf2\n",
      "        ports:\n",
      "            - 8087:80\n",
      "        networks:\n",
      "            D:\n",
      "            E:\n",
      "\n",
      "\n",
      "\n"
     ]
    }
   ],
   "source": [
    "print(conf_services)"
   ]
  },
  {
   "cell_type": "markdown",
   "metadata": {
    "collapsed": true,
    "deletable": true,
    "editable": true
   },
   "source": [
    "# Generation of docker run and docker network commands"
   ]
  },
  {
   "cell_type": "code",
   "execution_count": 23,
   "metadata": {
    "collapsed": false,
    "deletable": true,
    "editable": true
   },
   "outputs": [],
   "source": [
    "create_network_template = 'docker network create '\n",
    "create_network_commands = ''\n",
    "for link in links:\n",
    "    create_network_commands += create_network_template + link + '\\n'"
   ]
  },
  {
   "cell_type": "code",
   "execution_count": 25,
   "metadata": {
    "collapsed": false
   },
   "outputs": [
    {
     "name": "stdout",
     "output_type": "stream",
     "text": [
      "docker network create A\n",
      "docker network create C\n",
      "docker network create B\n",
      "docker network create E\n",
      "docker network create D\n",
      "docker network create G\n",
      "docker network create F\n",
      "docker network create H\n",
      "\n"
     ]
    }
   ],
   "source": [
    "print create_network_commands"
   ]
  },
  {
   "cell_type": "code",
   "execution_count": 36,
   "metadata": {
    "collapsed": false
   },
   "outputs": [
    {
     "name": "stdout",
     "output_type": "stream",
     "text": [
      "docker run --name host -p 8080:80 --network=A quagga\n",
      "docker run --name server -p 8081:80 --network=B quagga\n",
      "docker run --name rip2 -p 8082:80 --network=B quagga\n",
      "docker network connect H rip2\n",
      "docker run --name rip1 -p 8083:80 --network=H quagga\n",
      "docker network connect G rip1\n",
      "docker run --name br -p 8084:80 --network=G quagga\n",
      "docker network connect F br\n",
      "docker run --name ospf1 -p 8085:80 --network=C quagga\n",
      "docker network connect E ospf1\n",
      "docker network connect F ospf1\n",
      "docker run --name ospf3 -p 8086:80 --network=A quagga\n",
      "docker network connect D ospf3\n",
      "docker network connect C ospf3\n",
      "docker run --name ospf2 -p 8087:80 --network=D quagga\n",
      "docker network connect E ospf2\n"
     ]
    }
   ],
   "source": [
    "create_machine_template = 'docker run --name {machine_name} -p 808{number}:80 --network={first_link} {image_name}'\n",
    "# we could use -ti -a stdin -a stdout and then /bin/bash -c \"commands;bash\", \n",
    "# but that woult execute commands like ifconfig BEFORE all the networks are linked\n",
    "create_machine_commands = ''\n",
    "\n",
    "create_connection_template = 'docker network connect {link} {machine_name}'\n",
    "create_connection_commands = ''\n",
    "\n",
    "count = 0\n",
    "\n",
    "def replace_multiple_items(repls, string):\n",
    "    return reduce(lambda a, kv: a.replace(*kv), repls, string)\n",
    "\n",
    "for machine_name, interfaces in machines.items():\n",
    "    repls = ('{machine_name}', machine_name), ('{number}', str(count)), ('{first_link}', interfaces[0][0]), ('{image_name}', IMAGE_NAME)\n",
    "    create_machine_command = create_machine_template\n",
    "    create_machine_command = replace_multiple_items(repls, create_machine_command)\n",
    "    if DEBUG: print create_machine_command\n",
    "    create_machine_commands += create_machine_command + '\\n'\n",
    "    count += 1\n",
    "    for link,_ in interfaces[1:]:\n",
    "        repls = ('{link}', link), ('{machine_name}', machine_name)\n",
    "        create_connection_command = create_connection_template\n",
    "        create_connection_command = replace_multiple_items(repls, create_connection_command)\n",
    "        create_connection_commands += create_connection_command + '\\n'\n",
    "        if DEBUG: print create_connection_command        "
   ]
  },
  {
   "cell_type": "code",
   "execution_count": 38,
   "metadata": {
    "collapsed": false
   },
   "outputs": [
    {
     "name": "stdout",
     "output_type": "stream",
     "text": [
      "docker run --name host -p 8080:80 --network=A quagga\n",
      "docker run --name server -p 8081:80 --network=B quagga\n",
      "docker run --name rip2 -p 8082:80 --network=B quagga\n",
      "docker run --name rip1 -p 8083:80 --network=H quagga\n",
      "docker run --name br -p 8084:80 --network=G quagga\n",
      "docker run --name ospf1 -p 8085:80 --network=C quagga\n",
      "docker run --name ospf3 -p 8086:80 --network=A quagga\n",
      "docker run --name ospf2 -p 8087:80 --network=D quagga\n",
      "\n",
      "docker network connect H rip2\n",
      "docker network connect G rip1\n",
      "docker network connect F br\n",
      "docker network connect E ospf1\n",
      "docker network connect F ospf1\n",
      "docker network connect D ospf3\n",
      "docker network connect C ospf3\n",
      "docker network connect E ospf2\n",
      "\n"
     ]
    }
   ],
   "source": [
    "print create_machine_commands\n",
    "print create_connection_commands"
   ]
  },
  {
   "cell_type": "code",
   "execution_count": null,
   "metadata": {
    "collapsed": true
   },
   "outputs": [],
   "source": []
  }
 ],
 "metadata": {
  "kernelspec": {
   "display_name": "Python 2",
   "language": "python",
   "name": "python2"
  },
  "language_info": {
   "codemirror_mode": {
    "name": "ipython",
    "version": 2
   },
   "file_extension": ".py",
   "mimetype": "text/x-python",
   "name": "python",
   "nbconvert_exporter": "python",
   "pygments_lexer": "ipython2",
   "version": "2.7.13"
  }
 },
 "nbformat": 4,
 "nbformat_minor": 2
}
