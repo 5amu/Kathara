{
 "cells": [
  {
   "cell_type": "code",
   "execution_count": 43,
   "metadata": {
    "collapsed": false,
    "deletable": true,
    "editable": true
   },
   "outputs": [],
   "source": [
    "from mako.template import Template\n",
    "\n",
    "import argparse\n",
    "import configparser\n",
    "from itertools import chain\n",
    "import re\n",
    "\n",
    "from sys import platform as _platform\n",
    "import os\n",
    "import functools"
   ]
  },
  {
   "cell_type": "code",
   "execution_count": 44,
   "metadata": {
    "collapsed": true,
    "deletable": true,
    "editable": true
   },
   "outputs": [],
   "source": [
    "DEBUG = True\n",
    "IMAGE_NAME = 'quagga'\n",
    "LINUX_TERMINAL_TYPE = 'xterm'\n",
    "PATH_TO_LAB = 'shared/MARACAS_lab/'"
   ]
  },
  {
   "cell_type": "code",
   "execution_count": 45,
   "metadata": {
    "collapsed": false,
    "deletable": true,
    "editable": true
   },
   "outputs": [
    {
     "name": "stdout",
     "output_type": "stream",
     "text": [
      "Windows\n"
     ]
    }
   ],
   "source": [
    "if _platform == \"linux\" or _platform == \"linux2\":\n",
    "    print ('linux')\n",
    "elif _platform == \"darwin\":\n",
    "    print ('MAC OS X')\n",
    "elif _platform == \"win32\":\n",
    "    print ('Windows')"
   ]
  },
  {
   "cell_type": "markdown",
   "metadata": {
    "deletable": true,
    "editable": true
   },
   "source": [
    "# Parsing of lab.conf"
   ]
  },
  {
   "cell_type": "code",
   "execution_count": 46,
   "metadata": {
    "collapsed": true,
    "deletable": true,
    "editable": true
   },
   "outputs": [],
   "source": [
    "config = configparser.ConfigParser()"
   ]
  },
  {
   "cell_type": "code",
   "execution_count": 47,
   "metadata": {
    "collapsed": false,
    "deletable": true,
    "editable": true
   },
   "outputs": [],
   "source": [
    "# reads lab.conf\n",
    "with open(PATH_TO_LAB + 'lab.conf') as stream:\n",
    "    # adds a section to mimic a .ini file\n",
    "    stream = chain((\"[dummysection]\",), stream)\n",
    "    config.read_file(stream)"
   ]
  },
  {
   "cell_type": "code",
   "execution_count": 48,
   "metadata": {
    "collapsed": false,
    "deletable": true,
    "editable": true
   },
   "outputs": [
    {
     "name": "stdout",
     "output_type": "stream",
     "text": [
      "lab_description \"absaaaaaaaaaaaaaaaaa\"\n",
      "lab_version \"1.0\"\n",
      "lab_author \"aaaaaaaaaaaaaaaa\"\n",
      "lab_email \"aaaaaaaaa@aaaaaaaaaaaaaa\"\n",
      "host[0] A\n",
      "server[0] B\n",
      "ospf1[0] C\n",
      "ospf1[1] E\n",
      "ospf1[2] F\n",
      "ospf2[0] D\n",
      "ospf2[1] E\n",
      "ospf3[0] A\n",
      "ospf3[1] D\n",
      "ospf3[2] C\n",
      "br[0] G\n",
      "br[1] F\n",
      "rip1[0] H\n",
      "rip1[1] G\n",
      "rip2[0] B\n",
      "rip2[1] H\n"
     ]
    }
   ],
   "source": [
    "# gets 2 list of keys, one for machines and the other for the metadata\n",
    "# we also need a unique list of links\n",
    "keys = []\n",
    "m_keys = []\n",
    "links = []\n",
    "for key in config['dummysection']: \n",
    "    if DEBUG: print(key, config['dummysection'][key])\n",
    "    if '[' in key and ']' in key:\n",
    "        keys.append(key)\n",
    "        links.append(config['dummysection'][key])\n",
    "    else:\n",
    "        m_keys.append(key)"
   ]
  },
  {
   "cell_type": "code",
   "execution_count": 49,
   "metadata": {
    "collapsed": false,
    "deletable": true,
    "editable": true
   },
   "outputs": [
    {
     "data": {
      "text/plain": [
       "'A'"
      ]
     },
     "execution_count": 49,
     "metadata": {},
     "output_type": "execute_result"
    }
   ],
   "source": [
    "config['dummysection'][keys[0]]"
   ]
  },
  {
   "cell_type": "code",
   "execution_count": 50,
   "metadata": {
    "collapsed": true,
    "deletable": true,
    "editable": true
   },
   "outputs": [],
   "source": [
    "# we only need unique links\n",
    "links = set(links)"
   ]
  },
  {
   "cell_type": "code",
   "execution_count": 51,
   "metadata": {
    "collapsed": false,
    "deletable": true,
    "editable": true
   },
   "outputs": [
    {
     "data": {
      "text/plain": [
       "{'A', 'B', 'C', 'D', 'E', 'F', 'G', 'H'}"
      ]
     },
     "execution_count": 51,
     "metadata": {},
     "output_type": "execute_result"
    }
   ],
   "source": [
    "links"
   ]
  },
  {
   "cell_type": "code",
   "execution_count": 52,
   "metadata": {
    "collapsed": false,
    "deletable": true,
    "editable": true
   },
   "outputs": [],
   "source": [
    "# helper functions for natural sorting\n",
    "def atoi(text):\n",
    "    return int(text) if text.isdigit() else text\n",
    "def natural_keys(text):\n",
    "    return [ atoi(c) for c in re.split('(\\d+)', text) ]\n",
    "\n",
    "# sort the keys so that we keep the order of the interfaces\n",
    "keys.sort(key=natural_keys)"
   ]
  },
  {
   "cell_type": "code",
   "execution_count": 53,
   "metadata": {
    "collapsed": false,
    "deletable": true,
    "editable": true
   },
   "outputs": [
    {
     "data": {
      "text/plain": [
       "['br[0]',\n",
       " 'br[1]',\n",
       " 'host[0]',\n",
       " 'ospf1[0]',\n",
       " 'ospf1[1]',\n",
       " 'ospf1[2]',\n",
       " 'ospf2[0]',\n",
       " 'ospf2[1]',\n",
       " 'ospf3[0]',\n",
       " 'ospf3[1]',\n",
       " 'ospf3[2]',\n",
       " 'rip1[0]',\n",
       " 'rip1[1]',\n",
       " 'rip2[0]',\n",
       " 'rip2[1]',\n",
       " 'server[0]']"
      ]
     },
     "execution_count": 53,
     "metadata": {},
     "output_type": "execute_result"
    }
   ],
   "source": [
    "keys"
   ]
  },
  {
   "cell_type": "code",
   "execution_count": 54,
   "metadata": {
    "collapsed": false,
    "deletable": true,
    "editable": true
   },
   "outputs": [
    {
     "data": {
      "text/plain": [
       "['lab_description', 'lab_version', 'lab_author', 'lab_email']"
      ]
     },
     "execution_count": 54,
     "metadata": {},
     "output_type": "execute_result"
    }
   ],
   "source": [
    "m_keys"
   ]
  },
  {
   "cell_type": "code",
   "execution_count": 55,
   "metadata": {
    "collapsed": false,
    "deletable": true,
    "editable": true
   },
   "outputs": [],
   "source": [
    "# we then get a dictionary of machines ignoring interfaces that have missing positions (eg: 1,3,6 instead of 0,1,2)\n",
    "machines = {}\n",
    "for key in keys: \n",
    "    splitted = key.split('[')\n",
    "    name = splitted[0]\n",
    "    splitted = splitted[1].split(']')\n",
    "    ifnumber = int(splitted[0])\n",
    "    if not machines.get(name):\n",
    "        machines[name] = []\n",
    "    if len(machines[name]) == 0 or machines[name][len(machines[name])-1][1] == ifnumber - 1:\n",
    "        machines[name].append((config['dummysection'][key], ifnumber))"
   ]
  },
  {
   "cell_type": "code",
   "execution_count": 56,
   "metadata": {
    "collapsed": false,
    "deletable": true,
    "editable": true
   },
   "outputs": [
    {
     "data": {
      "text/plain": [
       "{'br': [('G', 0), ('F', 1)],\n",
       " 'host': [('A', 0)],\n",
       " 'ospf1': [('C', 0), ('E', 1), ('F', 2)],\n",
       " 'ospf2': [('D', 0), ('E', 1)],\n",
       " 'ospf3': [('A', 0), ('D', 1), ('C', 2)],\n",
       " 'rip1': [('H', 0), ('G', 1)],\n",
       " 'rip2': [('B', 0), ('H', 1)],\n",
       " 'server': [('B', 0)]}"
      ]
     },
     "execution_count": 56,
     "metadata": {},
     "output_type": "execute_result"
    }
   ],
   "source": [
    "machines"
   ]
  },
  {
   "cell_type": "code",
   "execution_count": 57,
   "metadata": {
    "collapsed": true,
    "deletable": true,
    "editable": true
   },
   "outputs": [],
   "source": [
    "metadata = {}\n",
    "for m_key in m_keys:\n",
    "    if config['dummysection'][m_key].startswith('\"') and config['dummysection'][m_key].endswith('\"'):\n",
    "        config['dummysection'][m_key] = config['dummysection'][m_key][1:-1]\n",
    "    metadata[m_key] = config['dummysection'][m_key]"
   ]
  },
  {
   "cell_type": "code",
   "execution_count": 58,
   "metadata": {
    "collapsed": false,
    "deletable": true,
    "editable": true
   },
   "outputs": [
    {
     "data": {
      "text/plain": [
       "{'lab_author': 'aaaaaaaaaaaaaaaa',\n",
       " 'lab_description': 'absaaaaaaaaaaaaaaaaa',\n",
       " 'lab_email': 'aaaaaaaaa@aaaaaaaaaaaaaa',\n",
       " 'lab_version': '1.0'}"
      ]
     },
     "execution_count": 58,
     "metadata": {},
     "output_type": "execute_result"
    }
   ],
   "source": [
    "metadata"
   ]
  },
  {
   "cell_type": "markdown",
   "metadata": {
    "collapsed": false,
    "deletable": true,
    "editable": true
   },
   "source": [
    "# Generation of docker-compose.yml (may not be used in the end)"
   ]
  },
  {
   "cell_type": "code",
   "execution_count": 59,
   "metadata": {
    "collapsed": true,
    "deletable": true,
    "editable": true
   },
   "outputs": [],
   "source": [
    "network_block_template = '''networks: \n",
    "${links}\n",
    "'''\n",
    "network_link_template = '''    ${link}:\n",
    "'''\n",
    "service_block_template = '''version: '2.1'\n",
    "\n",
    "services:\n",
    "${services}\n",
    "'''\n",
    "service_template = '''    ${machine_name}:\n",
    "        image: ${image_name}\n",
    "        privileged: true\n",
    "        container_name: netkit-${machine_name}\n",
    "        ports:\n",
    "            - 808${number}:80\n",
    "        networks:\n",
    "${links}\n",
    "'''\n",
    "service_link_template = '''            ${link}:\n",
    "'''\n",
    "# TODO lab.dep with '''depends_on: service: condition: service_healty'''"
   ]
  },
  {
   "cell_type": "code",
   "execution_count": 60,
   "metadata": {
    "collapsed": false,
    "deletable": true,
    "editable": true
   },
   "outputs": [
    {
     "name": "stdout",
     "output_type": "stream",
     "text": [
      "hello world! \n",
      "               \n"
     ]
    }
   ],
   "source": [
    "print(Template('''hello ${data}! \n",
    "               ''').render(data=\"world\"))"
   ]
  },
  {
   "cell_type": "code",
   "execution_count": 61,
   "metadata": {
    "collapsed": false,
    "deletable": true,
    "editable": true
   },
   "outputs": [],
   "source": [
    "conf_network = \"\"\n",
    "for link in links:\n",
    "    conf_network = conf_network + Template(network_link_template).render(link=link)\n",
    "\n",
    "conf_network = Template(network_block_template).render(links=conf_network)"
   ]
  },
  {
   "cell_type": "code",
   "execution_count": 62,
   "metadata": {
    "collapsed": false,
    "deletable": true,
    "editable": true
   },
   "outputs": [
    {
     "name": "stdout",
     "output_type": "stream",
     "text": [
      "networks: \n",
      "    D:\n",
      "    F:\n",
      "    H:\n",
      "    G:\n",
      "    B:\n",
      "    C:\n",
      "    A:\n",
      "    E:\n",
      "\n",
      "\n"
     ]
    }
   ],
   "source": [
    "print(conf_network)"
   ]
  },
  {
   "cell_type": "code",
   "execution_count": 63,
   "metadata": {
    "collapsed": false,
    "deletable": true,
    "editable": true
   },
   "outputs": [],
   "source": [
    "conf_services = \"\"\n",
    "counter = 0\n",
    "for machine_name, interfaces in machines.items():\n",
    "    conf_links = \"\"\n",
    "    for link, _ in interfaces:\n",
    "        conf_links = conf_links + Template(service_link_template).render(link=link)\n",
    "    conf_services = conf_services + Template(service_template).render(machine_name=machine_name, image_name=IMAGE_NAME, number=counter, links=conf_links)\n",
    "    counter += 1\n",
    "    \n",
    "conf_services = Template(service_block_template).render(services=conf_services)"
   ]
  },
  {
   "cell_type": "code",
   "execution_count": 64,
   "metadata": {
    "collapsed": false,
    "deletable": true,
    "editable": true
   },
   "outputs": [
    {
     "name": "stdout",
     "output_type": "stream",
     "text": [
      "version: '2.1'\n",
      "\n",
      "services:\n",
      "    rip2:\n",
      "        image: quagga\n",
      "        privileged: true\n",
      "        container_name: netkit-rip2\n",
      "        ports:\n",
      "            - 8080:80\n",
      "        networks:\n",
      "            B:\n",
      "            H:\n",
      "\n",
      "    host:\n",
      "        image: quagga\n",
      "        privileged: true\n",
      "        container_name: netkit-host\n",
      "        ports:\n",
      "            - 8081:80\n",
      "        networks:\n",
      "            A:\n",
      "\n",
      "    server:\n",
      "        image: quagga\n",
      "        privileged: true\n",
      "        container_name: netkit-server\n",
      "        ports:\n",
      "            - 8082:80\n",
      "        networks:\n",
      "            B:\n",
      "\n",
      "    ospf2:\n",
      "        image: quagga\n",
      "        privileged: true\n",
      "        container_name: netkit-ospf2\n",
      "        ports:\n",
      "            - 8083:80\n",
      "        networks:\n",
      "            D:\n",
      "            E:\n",
      "\n",
      "    br:\n",
      "        image: quagga\n",
      "        privileged: true\n",
      "        container_name: netkit-br\n",
      "        ports:\n",
      "            - 8084:80\n",
      "        networks:\n",
      "            G:\n",
      "            F:\n",
      "\n",
      "    rip1:\n",
      "        image: quagga\n",
      "        privileged: true\n",
      "        container_name: netkit-rip1\n",
      "        ports:\n",
      "            - 8085:80\n",
      "        networks:\n",
      "            H:\n",
      "            G:\n",
      "\n",
      "    ospf1:\n",
      "        image: quagga\n",
      "        privileged: true\n",
      "        container_name: netkit-ospf1\n",
      "        ports:\n",
      "            - 8086:80\n",
      "        networks:\n",
      "            C:\n",
      "            E:\n",
      "            F:\n",
      "\n",
      "    ospf3:\n",
      "        image: quagga\n",
      "        privileged: true\n",
      "        container_name: netkit-ospf3\n",
      "        ports:\n",
      "            - 8087:80\n",
      "        networks:\n",
      "            A:\n",
      "            D:\n",
      "            C:\n",
      "\n",
      "\n",
      "\n"
     ]
    }
   ],
   "source": [
    "print(conf_services)"
   ]
  },
  {
   "cell_type": "markdown",
   "metadata": {
    "collapsed": true,
    "deletable": true,
    "editable": true
   },
   "source": [
    "# Generation of docker run and docker network commands (lstart)"
   ]
  },
  {
   "cell_type": "code",
   "execution_count": 65,
   "metadata": {
    "collapsed": false,
    "deletable": true,
    "editable": true
   },
   "outputs": [],
   "source": [
    "create_network_template = 'docker network create '\n",
    "create_network_commands = []\n",
    "for link in links:\n",
    "    create_network_commands.append(create_network_template + link)"
   ]
  },
  {
   "cell_type": "code",
   "execution_count": 66,
   "metadata": {
    "collapsed": false,
    "deletable": true,
    "editable": true
   },
   "outputs": [],
   "source": [
    "create_machine_template = 'docker run -d --privileged --name {machine_name} -p 808{number}:80 --network={first_link} {image_name}'\n",
    "# we could use -ti -a stdin -a stdout and then /bin/bash -c \"commands;bash\", \n",
    "# but that woult execute commands like ifconfig BEFORE all the networks are linked\n",
    "create_machine_commands = []\n",
    "\n",
    "create_connection_template = 'docker network connect {link} {machine_name}'\n",
    "create_connection_commands = []\n",
    "\n",
    "copy_folder_template = 'docker cp ' + PATH_TO_LAB + '{machine_name}/etc {machine_name}:/'\n",
    "copy_folder_commands = []\n",
    "\n",
    "exec_template = 'docker exec {params} -ti --privileged=true {machine_name} {command}'\n",
    "exec_commands = []\n",
    "\n",
    "count = 0\n",
    "def replace_multiple_items(repls, string):\n",
    "    return functools.reduce(lambda a, kv: a.replace(*kv), repls, string)\n",
    "\n",
    "for machine_name, interfaces in machines.items():\n",
    "    repls = ('{machine_name}', machine_name), ('{number}', str(count)), ('{first_link}', interfaces[0][0]), ('{image_name}', IMAGE_NAME)\n",
    "    create_machine_commands.append(replace_multiple_items(repls, create_machine_template))\n",
    "    count += 1\n",
    "    for link,_ in interfaces[1:]:\n",
    "        repls = ('{link}', link), ('{machine_name}', machine_name)\n",
    "        create_connection_commands.append(replace_multiple_items(repls, create_connection_template))\n",
    "    repls = ('{machine_name}', machine_name), ('{machine_name}', machine_name)\n",
    "    copy_folder_commands.append(replace_multiple_items(repls, copy_folder_template))\n",
    "    repls = ('{machine_name}', machine_name), ('{command}', 'bash  -c \"echo -ne \\'\\\\033]0;' + machine_name + '\\\\007\\'; bash\"'), ('{params}', '-e TERM=debian')\n",
    "    exec_commands.append(replace_multiple_items(repls, exec_template))\n",
    "    \n",
    "    \n",
    "# for each machine we have to get the machine.startup file and insert every non empty line as a string inside an array\n",
    "startup_commands = []\n",
    "for machine_name, _ in machines.items():\n",
    "    f = open(PATH_TO_LAB + machine_name + '.startup', 'r')\n",
    "    for line in f:\n",
    "        if line.strip() and line not in ['\\n', '\\r\\n']:\n",
    "            repls = ('{machine_name}', machine_name), ('{command}', line.strip()), ('{params}', '-d')\n",
    "            startup_commands.append(replace_multiple_items(repls, exec_template))\n",
    "    f.close()"
   ]
  },
  {
   "cell_type": "code",
   "execution_count": 67,
   "metadata": {
    "collapsed": false,
    "deletable": true,
    "editable": true
   },
   "outputs": [
    {
     "name": "stdout",
     "output_type": "stream",
     "text": [
      "['docker network create D', 'docker network create F', 'docker network create H', 'docker network create G', 'docker network create B', 'docker network create C', 'docker network create A', 'docker network create E']\n",
      "['docker run -d --privileged --name rip2 -p 8080:80 --network=B quagga', 'docker run -d --privileged --name host -p 8081:80 --network=A quagga', 'docker run -d --privileged --name server -p 8082:80 --network=B quagga', 'docker run -d --privileged --name ospf2 -p 8083:80 --network=D quagga', 'docker run -d --privileged --name br -p 8084:80 --network=G quagga', 'docker run -d --privileged --name rip1 -p 8085:80 --network=H quagga', 'docker run -d --privileged --name ospf1 -p 8086:80 --network=C quagga', 'docker run -d --privileged --name ospf3 -p 8087:80 --network=A quagga']\n",
      "['docker network connect H rip2', 'docker network connect E ospf2', 'docker network connect F br', 'docker network connect G rip1', 'docker network connect E ospf1', 'docker network connect F ospf1', 'docker network connect D ospf3', 'docker network connect C ospf3']\n",
      "['docker cp shared/MARACAS_lab/rip2/etc rip2:/', 'docker cp shared/MARACAS_lab/host/etc host:/', 'docker cp shared/MARACAS_lab/server/etc server:/', 'docker cp shared/MARACAS_lab/ospf2/etc ospf2:/', 'docker cp shared/MARACAS_lab/br/etc br:/', 'docker cp shared/MARACAS_lab/rip1/etc rip1:/', 'docker cp shared/MARACAS_lab/ospf1/etc ospf1:/', 'docker cp shared/MARACAS_lab/ospf3/etc ospf3:/']\n"
     ]
    }
   ],
   "source": [
    "print (create_network_commands)\n",
    "print (create_machine_commands)\n",
    "print (create_connection_commands)\n",
    "print (copy_folder_commands)"
   ]
  },
  {
   "cell_type": "code",
   "execution_count": 68,
   "metadata": {
    "collapsed": true,
    "deletable": true,
    "editable": true
   },
   "outputs": [],
   "source": [
    "commands = create_network_commands + create_machine_commands + create_connection_commands + copy_folder_commands"
   ]
  },
  {
   "cell_type": "code",
   "execution_count": 69,
   "metadata": {
    "collapsed": false,
    "deletable": true,
    "editable": true
   },
   "outputs": [
    {
     "name": "stdout",
     "output_type": "stream",
     "text": [
      "['docker network create D', 'docker network create F', 'docker network create H', 'docker network create G', 'docker network create B', 'docker network create C', 'docker network create A', 'docker network create E', 'docker run -d --privileged --name rip2 -p 8080:80 --network=B quagga', 'docker run -d --privileged --name host -p 8081:80 --network=A quagga', 'docker run -d --privileged --name server -p 8082:80 --network=B quagga', 'docker run -d --privileged --name ospf2 -p 8083:80 --network=D quagga', 'docker run -d --privileged --name br -p 8084:80 --network=G quagga', 'docker run -d --privileged --name rip1 -p 8085:80 --network=H quagga', 'docker run -d --privileged --name ospf1 -p 8086:80 --network=C quagga', 'docker run -d --privileged --name ospf3 -p 8087:80 --network=A quagga', 'docker network connect H rip2', 'docker network connect E ospf2', 'docker network connect F br', 'docker network connect G rip1', 'docker network connect E ospf1', 'docker network connect F ospf1', 'docker network connect D ospf3', 'docker network connect C ospf3', 'docker cp shared/MARACAS_lab/rip2/etc rip2:/', 'docker cp shared/MARACAS_lab/host/etc host:/', 'docker cp shared/MARACAS_lab/server/etc server:/', 'docker cp shared/MARACAS_lab/ospf2/etc ospf2:/', 'docker cp shared/MARACAS_lab/br/etc br:/', 'docker cp shared/MARACAS_lab/rip1/etc rip1:/', 'docker cp shared/MARACAS_lab/ospf1/etc ospf1:/', 'docker cp shared/MARACAS_lab/ospf3/etc ospf3:/']\n"
     ]
    }
   ],
   "source": [
    "print (commands)"
   ]
  },
  {
   "cell_type": "code",
   "execution_count": 70,
   "metadata": {
    "collapsed": false,
    "deletable": true,
    "editable": true
   },
   "outputs": [
    {
     "name": "stdout",
     "output_type": "stream",
     "text": [
      "['docker exec -d -ti --privileged=true rip2 ifconfig eth0 2.0.0.1/24 up', 'docker exec -d -ti --privileged=true rip2 ifconfig eth1 11.0.0.2/30 up', 'docker exec -d -ti --privileged=true rip2 /etc/init.d/zebra start', 'docker exec -d -ti --privileged=true host ifconfig eth0 1.0.0.2/24 up', 'docker exec -d -ti --privileged=true host route add default gw 1.0.0.1', 'docker exec -d -ti --privileged=true server ifconfig eth0 2.0.0.2/24 up', 'docker exec -d -ti --privileged=true server route add default gw 2.0.0.1', 'docker exec -d -ti --privileged=true server /etc/init.d/apache2 start', 'docker exec -d -ti --privileged=true ospf2 ifconfig eth0 10.0.0.6/30 up', 'docker exec -d -ti --privileged=true ospf2 ifconfig eth1 10.0.0.9/30 up', 'docker exec -d -ti --privileged=true ospf2 /etc/init.d/zebra start', 'docker exec -d -ti --privileged=true br ifconfig eth0 11.1.0.1/30 up', 'docker exec -d -ti --privileged=true br ifconfig eth1 10.1.0.1/30 up', 'docker exec -d -ti --privileged=true br /etc/init.d/zebra start', 'docker exec -d -ti --privileged=true rip1 ifconfig eth0 11.0.0.1/30', 'docker exec -d -ti --privileged=true rip1 ifconfig eth1 11.1.0.2/30', 'docker exec -d -ti --privileged=true rip1 /etc/init.d/zebra start', 'docker exec -d -ti --privileged=true ospf1 ifconfig eth0 10.0.0.2/30 up', 'docker exec -d -ti --privileged=true ospf1 ifconfig eth1 10.0.0.10/30 up', 'docker exec -d -ti --privileged=true ospf1 ifconfig eth2 10.1.0.2/30 up', 'docker exec -d -ti --privileged=true ospf1 /etc/init.d/zebra start', 'docker exec -d -ti --privileged=true ospf3 ifconfig eth0 1.0.0.1/24 up', 'docker exec -d -ti --privileged=true ospf3 ifconfig eth1 10.0.0.5/30 up', 'docker exec -d -ti --privileged=true ospf3 ifconfig eth2 10.0.0.1/30 up', 'docker exec -d -ti --privileged=true ospf3 /etc/init.d/zebra start']\n"
     ]
    }
   ],
   "source": [
    "print (startup_commands)"
   ]
  },
  {
   "cell_type": "code",
   "execution_count": 71,
   "metadata": {
    "collapsed": false,
    "deletable": true,
    "editable": true
   },
   "outputs": [
    {
     "name": "stdout",
     "output_type": "stream",
     "text": [
      "['docker exec -e TERM=debian -ti --privileged=true rip2 bash  -c \"echo -ne \\'\\\\033]0;rip2\\\\007\\'; bash\"', 'docker exec -e TERM=debian -ti --privileged=true host bash  -c \"echo -ne \\'\\\\033]0;host\\\\007\\'; bash\"', 'docker exec -e TERM=debian -ti --privileged=true server bash  -c \"echo -ne \\'\\\\033]0;server\\\\007\\'; bash\"', 'docker exec -e TERM=debian -ti --privileged=true ospf2 bash  -c \"echo -ne \\'\\\\033]0;ospf2\\\\007\\'; bash\"', 'docker exec -e TERM=debian -ti --privileged=true br bash  -c \"echo -ne \\'\\\\033]0;br\\\\007\\'; bash\"', 'docker exec -e TERM=debian -ti --privileged=true rip1 bash  -c \"echo -ne \\'\\\\033]0;rip1\\\\007\\'; bash\"', 'docker exec -e TERM=debian -ti --privileged=true ospf1 bash  -c \"echo -ne \\'\\\\033]0;ospf1\\\\007\\'; bash\"', 'docker exec -e TERM=debian -ti --privileged=true ospf3 bash  -c \"echo -ne \\'\\\\033]0;ospf3\\\\007\\'; bash\"']\n"
     ]
    }
   ],
   "source": [
    "print (exec_commands)"
   ]
  },
  {
   "cell_type": "markdown",
   "metadata": {
    "deletable": true,
    "editable": true
   },
   "source": [
    "# Run command to create lab"
   ]
  },
  {
   "cell_type": "code",
   "execution_count": 72,
   "metadata": {
    "collapsed": false,
    "deletable": true,
    "editable": true
   },
   "outputs": [],
   "source": [
    "import subprocess\n",
    "def run_command_detatched(cmd_line):\n",
    "    p = subprocess.Popen(cmd_line, shell=True, stdout=subprocess.PIPE, stderr=subprocess.STDOUT)\n",
    "    out = p.communicate()[0]\n",
    "    return out"
   ]
  },
  {
   "cell_type": "code",
   "execution_count": 73,
   "metadata": {
    "collapsed": false,
    "deletable": true,
    "editable": true
   },
   "outputs": [
    {
     "name": "stdout",
     "output_type": "stream",
     "text": [
      "b'\\r\\nEsecuzione di Ping www.google.com [216.58.209.68] con 32 byte di dati:\\r\\nRisposta da 216.58.209.68: byte=32 durata=36ms TTL=54\\r\\nRisposta da 216.58.209.68: byte=32 durata=37ms TTL=54\\r\\nRisposta da 216.58.209.68: byte=32 durata=36ms TTL=54\\r\\nRisposta da 216.58.209.68: byte=32 durata=38ms TTL=54\\r\\n\\r\\nStatistiche Ping per 216.58.209.68:\\r\\n    Pacchetti: Trasmessi = 4, Ricevuti = 4, \\r\\n    Persi = 0 (0% persi),\\r\\nTempo approssimativo percorsi andata/ritorno in millisecondi:\\r\\n    Minimo = 36ms, Massimo =  38ms, Medio =  36ms\\r\\n\\r\\nEsecuzione di Ping www.google.com [216.58.209.68] con 32 byte di dati:\\r\\nRisposta da 216.58.209.68: byte=32 durata=47ms TTL=54\\r\\nRisposta da 216.58.209.68: byte=32 durata=38ms TTL=54\\r\\nRisposta da 216.58.209.68: byte=32 durata=46ms TTL=54\\r\\nRisposta da 216.58.209.68: byte=32 durata=44ms TTL=54\\r\\n\\r\\nStatistiche Ping per 216.58.209.68:\\r\\n    Pacchetti: Trasmessi = 4, Ricevuti = 4, \\r\\n    Persi = 0 (0% persi),\\r\\nTempo approssimativo percorsi andata/ritorno in millisecondi:\\r\\n    Minimo = 38ms, Massimo =  47ms, Medio =  43ms\\r\\n'\n"
     ]
    }
   ],
   "source": [
    "print (run_command_detatched('ping www.google.com & ping www.google.com'))"
   ]
  },
  {
   "cell_type": "code",
   "execution_count": 74,
   "metadata": {
    "collapsed": true,
    "deletable": true,
    "editable": true
   },
   "outputs": [],
   "source": [
    "separator_unix = ' ; '\n",
    "separator_windows = ' & '\n",
    "\n",
    "open_bash_separator = ''\n",
    "\n",
    "if _platform == \"win32\":\n",
    "    open_bash_separator = separator_windows\n",
    "elif _platform == \"darwin\":\n",
    "    open_bash_separator = separator_unix\n",
    "else: #linux or linux2\n",
    "    open_bash_separator = separator_unix"
   ]
  },
  {
   "cell_type": "code",
   "execution_count": 75,
   "metadata": {
    "collapsed": false,
    "deletable": true,
    "editable": true
   },
   "outputs": [
    {
     "name": "stdout",
     "output_type": "stream",
     "text": [
      "docker network create D & docker network create F & docker network create H & docker network create G & docker network create B & docker network create C & docker network create A & docker network create E & docker run -d --privileged --name rip2 -p 8080:80 --network=B quagga & docker run -d --privileged --name host -p 8081:80 --network=A quagga & docker run -d --privileged --name server -p 8082:80 --network=B quagga & docker run -d --privileged --name ospf2 -p 8083:80 --network=D quagga & docker run -d --privileged --name br -p 8084:80 --network=G quagga & docker run -d --privileged --name rip1 -p 8085:80 --network=H quagga & docker run -d --privileged --name ospf1 -p 8086:80 --network=C quagga & docker run -d --privileged --name ospf3 -p 8087:80 --network=A quagga & docker network connect H rip2 & docker network connect E ospf2 & docker network connect F br & docker network connect G rip1 & docker network connect E ospf1 & docker network connect F ospf1 & docker network connect D ospf3 & docker network connect C ospf3 & docker cp shared/MARACAS_lab/rip2/etc rip2:/ & docker cp shared/MARACAS_lab/host/etc host:/ & docker cp shared/MARACAS_lab/server/etc server:/ & docker cp shared/MARACAS_lab/ospf2/etc ospf2:/ & docker cp shared/MARACAS_lab/br/etc br:/ & docker cp shared/MARACAS_lab/rip1/etc rip1:/ & docker cp shared/MARACAS_lab/ospf1/etc ospf1:/ & docker cp shared/MARACAS_lab/ospf3/etc ospf3:/ \n"
     ]
    }
   ],
   "source": [
    "lab_create_command_string = ''\n",
    "for command in commands:\n",
    "    lab_create_command_string += command + open_bash_separator\n",
    "lab_create_command_string = lab_create_command_string[:len(lab_create_command_string)-2]\n",
    "if DEBUG: print (lab_create_command_string)"
   ]
  },
  {
   "cell_type": "code",
   "execution_count": 76,
   "metadata": {
    "collapsed": false,
    "deletable": true,
    "editable": true
   },
   "outputs": [
    {
     "name": "stdout",
     "output_type": "stream",
     "text": [
      "b'Error response from daemon: network with name D already exists\\nError response from daemon: network with name F already exists\\nError response from daemon: network with name H already exists\\nError response from daemon: network with name G already exists\\nError response from daemon: network with name B already exists\\nError response from daemon: network with name C already exists\\nError response from daemon: network with name A already exists\\nError response from daemon: network with name E already exists\\ndocker: Error response from daemon: Conflict. The container name \"/rip2\" is already in use by container d0b79d603902486ad372165ee2086851ca84601ee3702174ff8edcf012ece65b. You have to remove (or rename) that container to be able to reuse that name..\\nSee \\'docker run --help\\'.\\ndocker: Error response from daemon: Conflict. The container name \"/host\" is already in use by container 8cf505c377e1896c0ea88b38f259ac20501ac9acd3ebd060ffc4a86eab5e3c2f. You have to remove (or rename) that container to be able to reuse that name..\\nSee \\'docker run --help\\'.\\ndocker: Error response from daemon: Conflict. The container name \"/server\" is already in use by container c202bcbc51d40227aee068c65b3cc30c088f0b51220ddb3e07fa560e1e86075e. You have to remove (or rename) that container to be able to reuse that name..\\nSee \\'docker run --help\\'.\\ndocker: Error response from daemon: Conflict. The container name \"/ospf2\" is already in use by container 8dbbb2c0536a847e329514e98a64391ffd0ab19abf805e60cb2ddad90754301e. You have to remove (or rename) that container to be able to reuse that name..\\nSee \\'docker run --help\\'.\\ndocker: Error response from daemon: Conflict. The container name \"/br\" is already in use by container 9891b1f04f3ef47d494dc9f58c75d71d2cf3cb62c7b38b7491493bf4fcaf7c0c. You have to remove (or rename) that container to be able to reuse that name..\\nSee \\'docker run --help\\'.\\ndocker: Error response from daemon: Conflict. The container name \"/rip1\" is already in use by container 92b4a7e68a2a5467ab8340869811c84a5e7102fe77d1765292317daeb88ed16c. You have to remove (or rename) that container to be able to reuse that name..\\nSee \\'docker run --help\\'.\\ndocker: Error response from daemon: Conflict. The container name \"/ospf1\" is already in use by container b51b236e1b04071ec44bae63ff2933391ac68c225288be4f516a5072edec291b. You have to remove (or rename) that container to be able to reuse that name..\\nSee \\'docker run --help\\'.\\ndocker: Error response from daemon: Conflict. The container name \"/ospf3\" is already in use by container a687bcf023d93a6fdaa192045dda9e79506db0675a8b3d1f34af69fbb075f32a. You have to remove (or rename) that container to be able to reuse that name..\\nSee \\'docker run --help\\'.\\nError response from daemon: service endpoint with name rip2 already exists\\nError response from daemon: service endpoint with name ospf2 already exists\\nError response from daemon: service endpoint with name br already exists\\nError response from daemon: service endpoint with name rip1 already exists\\nError response from daemon: service endpoint with name ospf1 already exists\\nError response from daemon: service endpoint with name ospf1 already exists\\nError response from daemon: service endpoint with name ospf3 already exists\\nError response from daemon: service endpoint with name ospf3 already exists\\nGetFileAttributesEx C:\\\\Users\\\\Gaetano\\\\Documents\\\\Git\\\\Netkit-Python-Docker-core\\\\test\\\\shared\\\\MARACAS_lab\\\\host\\\\etc: Impossibile trovare il file specificato.\\nGetFileAttributesEx C:\\\\Users\\\\Gaetano\\\\Documents\\\\Git\\\\Netkit-Python-Docker-core\\\\test\\\\shared\\\\MARACAS_lab\\\\server\\\\etc: Impossibile trovare il file specificato.\\n'\n"
     ]
    }
   ],
   "source": [
    "print (run_command_detatched(lab_create_command_string))"
   ]
  },
  {
   "cell_type": "markdown",
   "metadata": {
    "deletable": true,
    "editable": true
   },
   "source": [
    "# Run startup commands inside lab and attach to lab"
   ]
  },
  {
   "cell_type": "code",
   "execution_count": 77,
   "metadata": {
    "collapsed": false,
    "deletable": true,
    "editable": true
   },
   "outputs": [
    {
     "data": {
      "text/plain": [
       "0"
      ]
     },
     "execution_count": 77,
     "metadata": {},
     "output_type": "execute_result"
    }
   ],
   "source": [
    "os.system('start /wait cmd /c \"ping www.google.com & cmd.exe\"')"
   ]
  },
  {
   "cell_type": "code",
   "execution_count": 78,
   "metadata": {
    "collapsed": false,
    "deletable": true,
    "editable": true
   },
   "outputs": [
    {
     "data": {
      "text/plain": [
       "1"
      ]
     },
     "execution_count": 78,
     "metadata": {},
     "output_type": "execute_result"
    }
   ],
   "source": [
    "os.system(LINUX_TERMINAL_TYPE + ' -e \\'bash -c \"ping www.google.com; exec bash\"\\'')"
   ]
  },
  {
   "cell_type": "code",
   "execution_count": 79,
   "metadata": {
    "collapsed": false,
    "deletable": true,
    "editable": true
   },
   "outputs": [
    {
     "data": {
      "text/plain": [
       "1"
      ]
     },
     "execution_count": 79,
     "metadata": {},
     "output_type": "execute_result"
    }
   ],
   "source": [
    "os.system('Terminal.app -c \"ping www.google.com; exec Terminal.app\"') # not tested yet"
   ]
  },
  {
   "cell_type": "code",
   "execution_count": 80,
   "metadata": {
    "collapsed": false,
    "deletable": true,
    "editable": true
   },
   "outputs": [],
   "source": [
    "open_bash_template_linux = LINUX_TERMINAL_TYPE + ' -e \\'bash -c \"{commands}\"\\''\n",
    "open_bash_template_windows = 'start cmd /k \"{commands}\"'\n",
    "open_bash_template_osx = 'Terminal.app -e \\'bash -c \"{commands}\"\\''  # not tested yet\n",
    "\n",
    "open_bash_template = ''\n",
    "\n",
    "if _platform == \"win32\":\n",
    "    open_bash_template = open_bash_template_windows\n",
    "elif _platform == \"darwin\":\n",
    "    open_bash_template = open_bash_template_osx\n",
    "else: #linux or linux2\n",
    "    open_bash_template = open_bash_template_linux"
   ]
  },
  {
   "cell_type": "code",
   "execution_count": 81,
   "metadata": {
    "collapsed": false,
    "deletable": true,
    "editable": true
   },
   "outputs": [
    {
     "name": "stdout",
     "output_type": "stream",
     "text": [
      "b''\n",
      "b''\n",
      "b'Error response from daemon: rpc error: code = 2 desc = oci runtime error: exec failed: container_linux.go:247: starting container process caused \"exec: \\\\\"/etc/init.d/zebra\\\\\": stat /etc/init.d/zebra: no such file or directory\"\\n'\n",
      "b''\n",
      "b''\n",
      "b''\n",
      "b''\n",
      "b'Error response from daemon: rpc error: code = 2 desc = oci runtime error: exec failed: container_linux.go:247: starting container process caused \"exec: \\\\\"/etc/init.d/apache2\\\\\": stat /etc/init.d/apache2: no such file or directory\"\\n'\n",
      "b''\n",
      "b''\n",
      "b'Error response from daemon: rpc error: code = 2 desc = oci runtime error: exec failed: container_linux.go:247: starting container process caused \"exec: \\\\\"/etc/init.d/zebra\\\\\": stat /etc/init.d/zebra: no such file or directory\"\\n'\n",
      "b''\n",
      "b''\n",
      "b'Error response from daemon: rpc error: code = 2 desc = oci runtime error: exec failed: container_linux.go:247: starting container process caused \"exec: \\\\\"/etc/init.d/zebra\\\\\": stat /etc/init.d/zebra: no such file or directory\"\\n'\n",
      "b''\n",
      "b''\n",
      "b'Error response from daemon: rpc error: code = 2 desc = oci runtime error: exec failed: container_linux.go:247: starting container process caused \"exec: \\\\\"/etc/init.d/zebra\\\\\": stat /etc/init.d/zebra: no such file or directory\"\\n'\n",
      "b''\n",
      "b''\n",
      "b''\n",
      "b'Error response from daemon: rpc error: code = 2 desc = oci runtime error: exec failed: container_linux.go:247: starting container process caused \"exec: \\\\\"/etc/init.d/zebra\\\\\": stat /etc/init.d/zebra: no such file or directory\"\\n'\n",
      "b''\n",
      "b''\n",
      "b''\n",
      "b'Error response from daemon: rpc error: code = 2 desc = oci runtime error: exec failed: container_linux.go:247: starting container process caused \"exec: \\\\\"/etc/init.d/zebra\\\\\": stat /etc/init.d/zebra: no such file or directory\"\\n'\n"
     ]
    }
   ],
   "source": [
    "for startup_command in startup_commands:\n",
    "    print (run_command_detatched(startup_command))"
   ]
  },
  {
   "cell_type": "code",
   "execution_count": 82,
   "metadata": {
    "collapsed": false,
    "deletable": true,
    "editable": true
   },
   "outputs": [
    {
     "name": "stdout",
     "output_type": "stream",
     "text": [
      "start cmd /k \"docker exec -e TERM=debian -ti --privileged=true rip2 bash  -c \"echo -ne '\\033]0;rip2\\007'; bash\"\" & start cmd /k \"docker exec -e TERM=debian -ti --privileged=true host bash  -c \"echo -ne '\\033]0;host\\007'; bash\"\" & start cmd /k \"docker exec -e TERM=debian -ti --privileged=true server bash  -c \"echo -ne '\\033]0;server\\007'; bash\"\" & start cmd /k \"docker exec -e TERM=debian -ti --privileged=true ospf2 bash  -c \"echo -ne '\\033]0;ospf2\\007'; bash\"\" & start cmd /k \"docker exec -e TERM=debian -ti --privileged=true br bash  -c \"echo -ne '\\033]0;br\\007'; bash\"\" & start cmd /k \"docker exec -e TERM=debian -ti --privileged=true rip1 bash  -c \"echo -ne '\\033]0;rip1\\007'; bash\"\" & start cmd /k \"docker exec -e TERM=debian -ti --privileged=true ospf1 bash  -c \"echo -ne '\\033]0;ospf1\\007'; bash\"\" & start cmd /k \"docker exec -e TERM=debian -ti --privileged=true ospf3 bash  -c \"echo -ne '\\033]0;ospf3\\007'; bash\"\" \n"
     ]
    }
   ],
   "source": [
    "command_string = ''\n",
    "for command in exec_commands:\n",
    "    command_string += open_bash_template.replace('{commands}', command) + open_bash_separator\n",
    "command_string = command_string[:len(command_string)-2]\n",
    "if DEBUG: print (command_string)"
   ]
  },
  {
   "cell_type": "code",
   "execution_count": 83,
   "metadata": {
    "collapsed": false,
    "deletable": true,
    "editable": true
   },
   "outputs": [
    {
     "name": "stdout",
     "output_type": "stream",
     "text": [
      "start cmd /k \"start cmd /k \"docker exec -e TERM=debian -ti --privileged=true rip2 bash  -c \"echo -ne '\\033]0;rip2\\007'; bash\"\" & start cmd /k \"docker exec -e TERM=debian -ti --privileged=true host bash  -c \"echo -ne '\\033]0;host\\007'; bash\"\" & start cmd /k \"docker exec -e TERM=debian -ti --privileged=true server bash  -c \"echo -ne '\\033]0;server\\007'; bash\"\" & start cmd /k \"docker exec -e TERM=debian -ti --privileged=true ospf2 bash  -c \"echo -ne '\\033]0;ospf2\\007'; bash\"\" & start cmd /k \"docker exec -e TERM=debian -ti --privileged=true br bash  -c \"echo -ne '\\033]0;br\\007'; bash\"\" & start cmd /k \"docker exec -e TERM=debian -ti --privileged=true rip1 bash  -c \"echo -ne '\\033]0;rip1\\007'; bash\"\" & start cmd /k \"docker exec -e TERM=debian -ti --privileged=true ospf1 bash  -c \"echo -ne '\\033]0;ospf1\\007'; bash\"\" & start cmd /k \"docker exec -e TERM=debian -ti --privileged=true ospf3 bash  -c \"echo -ne '\\033]0;ospf3\\007'; bash\"\" \"\n"
     ]
    }
   ],
   "source": [
    "print(open_bash_template.replace('{commands}', command_string))"
   ]
  },
  {
   "cell_type": "code",
   "execution_count": 84,
   "metadata": {
    "collapsed": false,
    "deletable": true,
    "editable": true
   },
   "outputs": [
    {
     "data": {
      "text/plain": [
       "0"
      ]
     },
     "execution_count": 84,
     "metadata": {},
     "output_type": "execute_result"
    }
   ],
   "source": [
    "os.system(open_bash_template.replace('{commands}', command_string))"
   ]
  },
  {
   "cell_type": "code",
   "execution_count": null,
   "metadata": {
    "collapsed": true,
    "deletable": true,
    "editable": true
   },
   "outputs": [],
   "source": []
  }
 ],
 "metadata": {
  "anaconda-cloud": {},
  "kernelspec": {
   "display_name": "Python [conda root]",
   "language": "python",
   "name": "conda-root-py"
  },
  "language_info": {
   "codemirror_mode": {
    "name": "ipython",
    "version": 3
   },
   "file_extension": ".py",
   "mimetype": "text/x-python",
   "name": "python",
   "nbconvert_exporter": "python",
   "pygments_lexer": "ipython3",
   "version": "3.5.2"
  }
 },
 "nbformat": 4,
 "nbformat_minor": 2
}
