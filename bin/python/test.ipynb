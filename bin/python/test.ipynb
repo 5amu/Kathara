{
 "cells": [
  {
   "cell_type": "code",
   "execution_count": 1,
   "metadata": {
    "collapsed": false
   },
   "outputs": [
    {
     "name": "stdout",
     "output_type": "stream",
     "text": [
      "platform: win32\n"
     ]
    }
   ],
   "source": [
    "from netkit_commons import lab_parse, create_commands"
   ]
  },
  {
   "cell_type": "code",
   "execution_count": 2,
   "metadata": {
    "collapsed": false
   },
   "outputs": [
    {
     "name": "stdout",
     "output_type": "stream",
     "text": [
      "('lab_description', u'\"absaaaaaaaaaaaaaaaaa\"')\n",
      "('lab_version', u'\"1.0\"')\n",
      "('lab_author', u'\"aaaaaaaaaaaaaaaa\"')\n",
      "('lab_email', u'\"aaaaaaaaa@aaaaaaaaaaaaaa\"')\n",
      "('host[0]', u'A')\n",
      "('host[mem]', u'64')\n",
      "('server[0]', u'B')\n",
      "('ospf1[0]', u'C')\n",
      "('ospf1[1]', u'E')\n",
      "('ospf1[2]', u'F')\n",
      "('ospf2[0]', u'D')\n",
      "('ospf2[1]', u'E')\n",
      "('ospf3[0]', u'A')\n",
      "('ospf3[1]', u'D')\n",
      "('ospf3[2]', u'C')\n",
      "('br[0]', u'G')\n",
      "('br[1]', u'F')\n",
      "('rip1[0]', u'H')\n",
      "('rip1[1]', u'G')\n",
      "('rip2[0]', u'B')\n",
      "('rip2[1]', u'H')\n",
      "{'host': [(u'A', 0)], 'server': [(u'B', 0)], 'rip2': [(u'B', 0), (u'H', 1)], 'rip1': [(u'H', 0), (u'G', 1)], 'br': [(u'G', 0), (u'F', 1)], 'ospf1': [(u'C', 0), (u'E', 1), (u'F', 2)], 'ospf3': [(u'A', 0), (u'D', 1), (u'C', 2)], 'ospf2': [(u'D', 0), (u'E', 1)]} {'host': [('mem', u'64')]} {'lab_email': u'aaaaaaaaa@aaaaaaaaaaaaaa', 'lab_description': u'absaaaaaaaaaaaaaaaaa', 'lab_author': u'aaaaaaaaaaaaaaaa', 'lab_version': u'1.0'}\n"
     ]
    }
   ],
   "source": [
    "(machines, links, options, metadata) = lab_parse()"
   ]
  },
  {
   "cell_type": "code",
   "execution_count": 3,
   "metadata": {
    "collapsed": false
   },
   "outputs": [
    {
     "data": {
      "text/plain": [
       "([u'docker network create A',\n",
       "  u'docker network create C',\n",
       "  u'docker network create B',\n",
       "  u'docker network create E',\n",
       "  u'docker network create D',\n",
       "  u'docker network create G',\n",
       "  u'docker network create F',\n",
       "  u'docker network create H',\n",
       "  u'docker network create 64',\n",
       "  u'docker run -d --privileged --name host -p 8080:80 --hostname=host --network=A ewindisch/quagga',\n",
       "  u'docker run -d --privileged --name server -p 8081:80 --hostname=server --network=B ewindisch/quagga',\n",
       "  u'docker run -d --privileged --name rip2 -p 8082:80 --hostname=rip2 --network=B ewindisch/quagga',\n",
       "  u'docker run -d --privileged --name rip1 -p 8083:80 --hostname=rip1 --network=H ewindisch/quagga',\n",
       "  u'docker run -d --privileged --name br -p 8084:80 --hostname=br --network=G ewindisch/quagga',\n",
       "  u'docker run -d --privileged --name ospf1 -p 8085:80 --hostname=ospf1 --network=C ewindisch/quagga',\n",
       "  u'docker run -d --privileged --name ospf3 -p 8086:80 --hostname=ospf3 --network=A ewindisch/quagga',\n",
       "  u'docker run -d --privileged --name ospf2 -p 8087:80 --hostname=ospf2 --network=D ewindisch/quagga',\n",
       "  u'docker network connect H rip2',\n",
       "  u'docker network connect G rip1',\n",
       "  u'docker network connect F br',\n",
       "  u'docker network connect E ospf1',\n",
       "  u'docker network connect F ospf1',\n",
       "  u'docker network connect D ospf3',\n",
       "  u'docker network connect C ospf3',\n",
       "  u'docker network connect E ospf2',\n",
       "  'docker cp ../../test/shared/MARACAS_lab/host/etc host:/',\n",
       "  'docker cp ../../test/shared/MARACAS_lab/server/etc server:/',\n",
       "  'docker cp ../../test/shared/MARACAS_lab/rip2/etc rip2:/',\n",
       "  'docker cp ../../test/shared/MARACAS_lab/rip1/etc rip1:/',\n",
       "  'docker cp ../../test/shared/MARACAS_lab/br/etc br:/',\n",
       "  'docker cp ../../test/shared/MARACAS_lab/ospf1/etc ospf1:/',\n",
       "  'docker cp ../../test/shared/MARACAS_lab/ospf3/etc ospf3:/',\n",
       "  'docker cp ../../test/shared/MARACAS_lab/ospf2/etc ospf2:/'],\n",
       " ['docker exec -d -ti --privileged=true host ifconfig eth0 1.0.0.2/24 up',\n",
       "  'docker exec -d -ti --privileged=true host route add default gw 1.0.0.1',\n",
       "  'docker exec -d -ti --privileged=true server ifconfig eth0 2.0.0.2/24 up',\n",
       "  'docker exec -d -ti --privileged=true server route add default gw 2.0.0.1',\n",
       "  'docker exec -d -ti --privileged=true server /etc/init.d/apache2 start',\n",
       "  'docker exec -d -ti --privileged=true rip2 ifconfig eth0 2.0.0.1/24 up',\n",
       "  'docker exec -d -ti --privileged=true rip2 ifconfig eth1 11.0.0.2/30 up',\n",
       "  'docker exec -d -ti --privileged=true rip2 /etc/init.d/zebra start',\n",
       "  'docker exec -d -ti --privileged=true rip1 ifconfig eth0 11.0.0.1/30',\n",
       "  'docker exec -d -ti --privileged=true rip1 ifconfig eth1 11.1.0.2/30',\n",
       "  'docker exec -d -ti --privileged=true rip1 /etc/init.d/zebra start',\n",
       "  'docker exec -d -ti --privileged=true br ifconfig eth0 11.1.0.1/30 up',\n",
       "  'docker exec -d -ti --privileged=true br ifconfig eth1 10.1.0.1/30 up',\n",
       "  'docker exec -d -ti --privileged=true br /etc/init.d/zebra start',\n",
       "  'docker exec -d -ti --privileged=true ospf1 ifconfig eth0 10.0.0.2/30 up',\n",
       "  'docker exec -d -ti --privileged=true ospf1 ifconfig eth1 10.0.0.10/30 up',\n",
       "  'docker exec -d -ti --privileged=true ospf1 ifconfig eth2 10.1.0.2/30 up',\n",
       "  'docker exec -d -ti --privileged=true ospf1 /etc/init.d/zebra start',\n",
       "  'docker exec -d -ti --privileged=true ospf3 ifconfig eth0 1.0.0.1/24 up',\n",
       "  'docker exec -d -ti --privileged=true ospf3 ifconfig eth1 10.0.0.5/30 up',\n",
       "  'docker exec -d -ti --privileged=true ospf3 ifconfig eth2 10.0.0.1/30 up',\n",
       "  'docker exec -d -ti --privileged=true ospf3 /etc/init.d/zebra start',\n",
       "  'docker exec -d -ti --privileged=true ospf2 ifconfig eth0 10.0.0.6/30 up',\n",
       "  'docker exec -d -ti --privileged=true ospf2 ifconfig eth1 10.0.0.9/30 up',\n",
       "  'docker exec -d -ti --privileged=true ospf2 /etc/init.d/zebra start'],\n",
       " ['docker exec -e TERM=debian -ti --privileged=true host bash  -c \"echo -ne \\'\\\\033]0;host\\\\007\\'; bash\"',\n",
       "  'docker exec -e TERM=debian -ti --privileged=true server bash  -c \"echo -ne \\'\\\\033]0;server\\\\007\\'; bash\"',\n",
       "  'docker exec -e TERM=debian -ti --privileged=true rip2 bash  -c \"echo -ne \\'\\\\033]0;rip2\\\\007\\'; bash\"',\n",
       "  'docker exec -e TERM=debian -ti --privileged=true rip1 bash  -c \"echo -ne \\'\\\\033]0;rip1\\\\007\\'; bash\"',\n",
       "  'docker exec -e TERM=debian -ti --privileged=true br bash  -c \"echo -ne \\'\\\\033]0;br\\\\007\\'; bash\"',\n",
       "  'docker exec -e TERM=debian -ti --privileged=true ospf1 bash  -c \"echo -ne \\'\\\\033]0;ospf1\\\\007\\'; bash\"',\n",
       "  'docker exec -e TERM=debian -ti --privileged=true ospf3 bash  -c \"echo -ne \\'\\\\033]0;ospf3\\\\007\\'; bash\"',\n",
       "  'docker exec -e TERM=debian -ti --privileged=true ospf2 bash  -c \"echo -ne \\'\\\\033]0;ospf2\\\\007\\'; bash\"'])"
      ]
     },
     "execution_count": 3,
     "metadata": {},
     "output_type": "execute_result"
    }
   ],
   "source": [
    "create_commands(machines, links, options, metadata)"
   ]
  },
  {
   "cell_type": "code",
   "execution_count": null,
   "metadata": {
    "collapsed": true
   },
   "outputs": [],
   "source": []
  }
 ],
 "metadata": {
  "kernelspec": {
   "display_name": "Python 2",
   "language": "python",
   "name": "python2"
  },
  "language_info": {
   "codemirror_mode": {
    "name": "ipython",
    "version": 2
   },
   "file_extension": ".py",
   "mimetype": "text/x-python",
   "name": "python",
   "nbconvert_exporter": "python",
   "pygments_lexer": "ipython2",
   "version": "2.7.13"
  }
 },
 "nbformat": 4,
 "nbformat_minor": 2
}
